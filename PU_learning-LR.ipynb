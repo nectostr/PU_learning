{
 "cells": [
  {
   "cell_type": "markdown",
   "metadata": {},
   "source": [
    "## PU learning"
   ]
  },
  {
   "cell_type": "code",
   "execution_count": 22,
   "metadata": {},
   "outputs": [],
   "source": [
    "from scipy import signal\n",
    "from scipy import stats\n",
    "from matplotlib import pyplot as plt\n",
    "import numpy as np \n",
    "import pandas as pd"
   ]
  },
  {
   "cell_type": "markdown",
   "metadata": {},
   "source": [
    "#### Data Creating"
   ]
  },
  {
   "cell_type": "code",
   "execution_count": 23,
   "metadata": {
    "scrolled": true
   },
   "outputs": [
    {
     "data": {
      "image/png": "[encoded data removed]",
      "text/plain": [
       "<Figure size 432x288 with 1 Axes>"
      ]
     },
     "metadata": {
      "needs_background": "light"
     },
     "output_type": "display_data"
    },
    {
     "data": {
      "image/png": "[encoded data removed]",
      "text/plain": [
       "<Figure size 432x288 with 1 Axes>"
      ]
     },
     "metadata": {
      "needs_background": "light"
     },
     "output_type": "display_data"
    }
   ],
   "source": [
    "gaussian_arr = signal.gaussian(1000, std=700)\n",
    "plt.plot(gaussian_arr)\n",
    "plt.show()\n",
    "laplaccian_arr = stats.norm.cdf(np.linspace(0,1,1001)) - 0.5\n",
    "plt.plot(laplaccian_arr)\n",
    "plt.show()"
   ]
  },
  {
   "cell_type": "code",
   "execution_count": 24,
   "metadata": {},
   "outputs": [],
   "source": [
    "df = pd.DataFrame(data=np.vstack((np.stack(\n",
    "    (gaussian_arr, [1]*len(gaussian_arr)), axis=-1),np.stack((laplaccian_arr, [0]*len(laplaccian_arr)), axis=-1))), \n",
    "    columns=[\"x\", \"y\"]) #1 - for gaussian 0 - for laplaccian"
   ]
  },
  {
   "cell_type": "code",
   "execution_count": 25,
   "metadata": {},
   "outputs": [],
   "source": [
    "df = df.sample(frac=1).reset_index(drop=True)"
   ]
  },
  {
   "cell_type": "code",
   "execution_count": 26,
   "metadata": {},
   "outputs": [
    {
     "data": {
      "text/html": [
       "<div>\n",
       "<style scoped>\n",
       "    .dataframe tbody tr th:only-of-type {\n",
       "        vertical-align: middle;\n",
       "    }\n",
       "\n",
       "    .dataframe tbody tr th {\n",
       "        vertical-align: top;\n",
       "    }\n",
       "\n",
       "    .dataframe thead th {\n",
       "        text-align: right;\n",
       "    }\n",
       "</style>\n",
       "<table border=\"1\" class=\"dataframe\">\n",
       "  <thead>\n",
       "    <tr style=\"text-align: right;\">\n",
       "      <th></th>\n",
       "      <th>x</th>\n",
       "      <th>y</th>\n",
       "    </tr>\n",
       "  </thead>\n",
       "  <tbody>\n",
       "    <tr>\n",
       "      <th>0</th>\n",
       "      <td>0.003590</td>\n",
       "      <td>0.0</td>\n",
       "    </tr>\n",
       "    <tr>\n",
       "      <th>1</th>\n",
       "      <td>0.025515</td>\n",
       "      <td>0.0</td>\n",
       "    </tr>\n",
       "    <tr>\n",
       "      <th>2</th>\n",
       "      <td>0.919654</td>\n",
       "      <td>1.0</td>\n",
       "    </tr>\n",
       "    <tr>\n",
       "      <th>3</th>\n",
       "      <td>0.829870</td>\n",
       "      <td>1.0</td>\n",
       "    </tr>\n",
       "    <tr>\n",
       "      <th>4</th>\n",
       "      <td>0.931602</td>\n",
       "      <td>1.0</td>\n",
       "    </tr>\n",
       "  </tbody>\n",
       "</table>\n",
       "</div>"
      ],
      "text/plain": [
       "          x    y\n",
       "0  0.003590  0.0\n",
       "1  0.025515  0.0\n",
       "2  0.919654  1.0\n",
       "3  0.829870  1.0\n",
       "4  0.931602  1.0"
      ]
     },
     "execution_count": 26,
     "metadata": {},
     "output_type": "execute_result"
    }
   ],
   "source": [
    "df.head()"
   ]
  },
  {
   "cell_type": "code",
   "execution_count": 27,
   "metadata": {},
   "outputs": [],
   "source": [
    "import sklearn as sk\n",
    "from sklearn.linear_model import LogisticRegression\n",
    "from sklearn.model_selection import train_test_split\n",
    "\n",
    "X_train, X_test, y_train, y_test = train_test_split(df[\"x\"], df[\"y\"], test_size=0.33, random_state=42)"
   ]
  },
  {
   "cell_type": "code",
   "execution_count": 29,
   "metadata": {},
   "outputs": [
    {
     "name": "stderr",
     "output_type": "stream",
     "text": [
      "C:\\Users\\nectostr\\AppData\\Local\\Continuum\\miniconda3\\envs\\ml\\lib\\site-packages\\sklearn\\linear_model\\logistic.py:432: FutureWarning: Default solver will be changed to 'lbfgs' in 0.22. Specify a solver to silence this warning.\n",
      "  FutureWarning)\n"
     ]
    },
    {
     "data": {
      "text/plain": [
       "LogisticRegression(C=1.0, class_weight=None, dual=False, fit_intercept=True,\n",
       "                   intercept_scaling=1, l1_ratio=None, max_iter=100,\n",
       "                   multi_class='warn', n_jobs=None, penalty='l2',\n",
       "                   random_state=None, solver='warn', tol=0.0001, verbose=0,\n",
       "                   warm_start=False)"
      ]
     },
     "execution_count": 29,
     "metadata": {},
     "output_type": "execute_result"
    }
   ],
   "source": [
    "LG = LogisticRegression(solver='lbfgs') #random_state=0, ,multi_class='multinomial'\n",
    "LG.fit(X_train.values.reshape(-1, 1), y_train)"
   ]
  },
  {
   "cell_type": "code",
   "execution_count": 30,
   "metadata": {},
   "outputs": [
    {
     "data": {
      "text/plain": [
       "1.0"
      ]
     },
     "execution_count": 30,
     "metadata": {},
     "output_type": "execute_result"
    }
   ],
   "source": [
    "LG.predict(X_test.values.reshape(-1, 1))\n",
    "round(LG.score(X_test.values.reshape(-1, 1),y_test), 4)"
   ]
  },
  {
   "cell_type": "markdown",
   "metadata": {},
   "source": [
    "As shown on well diveded data usual classifiers works ok"
   ]
  },
  {
   "cell_type": "code",
   "execution_count": 31,
   "metadata": {},
   "outputs": [],
   "source": [
    "df[\"s\"] = df[\"y\"] * np.random.randint(0,2,len(df))"
   ]
  },
  {
   "cell_type": "code",
   "execution_count": 32,
   "metadata": {},
   "outputs": [
    {
     "data": {
      "text/html": [
       "<div>\n",
       "<style scoped>\n",
       "    .dataframe tbody tr th:only-of-type {\n",
       "        vertical-align: middle;\n",
       "    }\n",
       "\n",
       "    .dataframe tbody tr th {\n",
       "        vertical-align: top;\n",
       "    }\n",
       "\n",
       "    .dataframe thead th {\n",
       "        text-align: right;\n",
       "    }\n",
       "</style>\n",
       "<table border=\"1\" class=\"dataframe\">\n",
       "  <thead>\n",
       "    <tr style=\"text-align: right;\">\n",
       "      <th></th>\n",
       "      <th>x</th>\n",
       "      <th>y</th>\n",
       "      <th>s</th>\n",
       "    </tr>\n",
       "  </thead>\n",
       "  <tbody>\n",
       "    <tr>\n",
       "      <th>0</th>\n",
       "      <td>0.003590</td>\n",
       "      <td>0.0</td>\n",
       "      <td>0.0</td>\n",
       "    </tr>\n",
       "    <tr>\n",
       "      <th>1</th>\n",
       "      <td>0.025515</td>\n",
       "      <td>0.0</td>\n",
       "      <td>0.0</td>\n",
       "    </tr>\n",
       "    <tr>\n",
       "      <th>2</th>\n",
       "      <td>0.919654</td>\n",
       "      <td>1.0</td>\n",
       "      <td>1.0</td>\n",
       "    </tr>\n",
       "    <tr>\n",
       "      <th>3</th>\n",
       "      <td>0.829870</td>\n",
       "      <td>1.0</td>\n",
       "      <td>1.0</td>\n",
       "    </tr>\n",
       "    <tr>\n",
       "      <th>4</th>\n",
       "      <td>0.931602</td>\n",
       "      <td>1.0</td>\n",
       "      <td>1.0</td>\n",
       "    </tr>\n",
       "  </tbody>\n",
       "</table>\n",
       "</div>"
      ],
      "text/plain": [
       "          x    y    s\n",
       "0  0.003590  0.0  0.0\n",
       "1  0.025515  0.0  0.0\n",
       "2  0.919654  1.0  1.0\n",
       "3  0.829870  1.0  1.0\n",
       "4  0.931602  1.0  1.0"
      ]
     },
     "execution_count": 32,
     "metadata": {},
     "output_type": "execute_result"
    }
   ],
   "source": [
    "df.head()"
   ]
  },
  {
   "cell_type": "code",
   "execution_count": 33,
   "metadata": {},
   "outputs": [],
   "source": [
    "import sklearn as sk\n",
    "from sklearn.ensemble import RandomForestClassifier\n",
    "from sklearn.model_selection import train_test_split\n",
    "\n",
    "X_train, X_test, y_train, y_test = train_test_split(df[\"x\"], df[[\"s\",\"y\"]], test_size=0.33, random_state=42)"
   ]
  },
  {
   "cell_type": "code",
   "execution_count": 34,
   "metadata": {},
   "outputs": [
    {
     "name": "stderr",
     "output_type": "stream",
     "text": [
      "C:\\Users\\nectostr\\AppData\\Local\\Continuum\\miniconda3\\envs\\ml\\lib\\site-packages\\sklearn\\linear_model\\logistic.py:432: FutureWarning: Default solver will be changed to 'lbfgs' in 0.22. Specify a solver to silence this warning.\n",
      "  FutureWarning)\n"
     ]
    },
    {
     "data": {
      "text/plain": [
       "LogisticRegression(C=1.0, class_weight=None, dual=False, fit_intercept=True,\n",
       "                   intercept_scaling=1, l1_ratio=None, max_iter=100,\n",
       "                   multi_class='warn', n_jobs=None, penalty='l2',\n",
       "                   random_state=None, solver='warn', tol=0.0001, verbose=0,\n",
       "                   warm_start=False)"
      ]
     },
     "execution_count": 34,
     "metadata": {},
     "output_type": "execute_result"
    }
   ],
   "source": [
    "LG = LogisticRegression(solver='lbfgs')#random_state=0, , multi_class='multinomial'\n",
    "LG.fit(X_train.values.reshape(-1, 1), y_train[\"s\"])"
   ]
  },
  {
   "cell_type": "code",
   "execution_count": 35,
   "metadata": {},
   "outputs": [
    {
     "name": "stdout",
     "output_type": "stream",
     "text": [
      "Score for s is 0.7670, course unreal dependense is hard to learn\n",
      "Score for y is 0.7610 course real dependense is hard to learn from unreal\n"
     ]
    }
   ],
   "source": [
    "LG.predict(X_test.values.reshape(-1, 1))\n",
    "print(f\"Score for s is {LG.score(X_test.values.reshape(-1, 1),y_test['s']):.4f}, course unreal dependense is hard to learn\")\n",
    "print(f\"Score for y is {LG.score(X_test.values.reshape(-1, 1),y_test['y']):.4f} course real dependense is hard to learn from unreal\")"
   ]
  },
  {
   "cell_type": "markdown",
   "metadata": {},
   "source": [
    "### Divide data"
   ]
  },
  {
   "cell_type": "code",
   "execution_count": 201,
   "metadata": {},
   "outputs": [],
   "source": [
    "import sklearn as sk\n",
    "from sklearn.ensemble import RandomForestClassifier\n",
    "from sklearn.model_selection import train_test_split\n",
    "\n",
    "X_train, X_test, y_train, y_test = train_test_split(df[\"x\"], df[[\"s\", 'y']], test_size=0.33, random_state=42)\n",
    "X_train, X_val, y_train, y_val = train_test_split(X_train, y_train, test_size=0.33, random_state=42)"
   ]
  },
  {
   "cell_type": "markdown",
   "metadata": {},
   "source": [
    "### Fit g classificator"
   ]
  },
  {
   "cell_type": "code",
   "execution_count": 53,
   "metadata": {},
   "outputs": [
    {
     "data": {
      "text/plain": [
       "LogisticRegression(C=1.0, class_weight=None, dual=False, fit_intercept=True,\n",
       "                   intercept_scaling=1, l1_ratio=None, max_iter=100,\n",
       "                   multi_class='warn', n_jobs=None, penalty='l2',\n",
       "                   random_state=None, solver='lbfgs', tol=0.0001, verbose=0,\n",
       "                   warm_start=False)"
      ]
     },
     "execution_count": 53,
     "metadata": {},
     "output_type": "execute_result"
    }
   ],
   "source": [
    "LG_g = LogisticRegression(solver='lbfgs')#random_state=0, , multi_class='multinomial'\n",
    "LG_g.fit(X_train.values.reshape(-1, 1), y_train[\"s\"])"
   ]
  },
  {
   "cell_type": "code",
   "execution_count": 51,
   "metadata": {},
   "outputs": [
    {
     "name": "stdout",
     "output_type": "stream",
     "text": [
      "0.0\n"
     ]
    }
   ],
   "source": [
    "d = LG_g.predict_proba(X_val.values.reshape(-1, 1))[:,1]\n",
    "d1 = LG_g.predict(X_val.values.reshape(-1, 1))\n",
    "r = np.stack((d,d1,d>0.5, d1 - d>0.5), axis=-1)\n",
    "print(sum(r[:,-1]))"
   ]
  },
  {
   "cell_type": "markdown",
   "metadata": {},
   "source": [
    "### Estimating c"
   ]
  },
  {
   "cell_type": "code",
   "execution_count": 71,
   "metadata": {},
   "outputs": [
    {
     "data": {
      "text/plain": [
       "0.11444694184186976"
      ]
     },
     "execution_count": 71,
     "metadata": {},
     "output_type": "execute_result"
    }
   ],
   "source": [
    "X_val_p = X_val.loc[X_val.index[y_val[\"s\"] == 1]]\n",
    "d_p = LG_g.predict_proba(X_val_p.values.reshape(-1, 1))[:,1]\n",
    "e1 = d_p.sum()/len(X_val)\n",
    "e1"
   ]
  },
  {
   "cell_type": "code",
   "execution_count": 72,
   "metadata": {},
   "outputs": [
    {
     "data": {
      "text/plain": [
       "0.44721758414685187"
      ]
     },
     "execution_count": 72,
     "metadata": {},
     "output_type": "execute_result"
    }
   ],
   "source": [
    "d_v = LG_g.predict_proba(X_val.values.reshape(-1, 1))[:,1]\n",
    "e2 = d_p.sum()/d_v.sum()\n",
    "e2"
   ]
  },
  {
   "cell_type": "code",
   "execution_count": 73,
   "metadata": {},
   "outputs": [
    {
     "data": {
      "text/plain": [
       "0.5884221059318024"
      ]
     },
     "execution_count": 73,
     "metadata": {},
     "output_type": "execute_result"
    }
   ],
   "source": [
    "e3 = d_v.max()\n",
    "e3"
   ]
  },
  {
   "cell_type": "markdown",
   "metadata": {},
   "source": [
    "### First way to create f"
   ]
  },
  {
   "cell_type": "code",
   "execution_count": 309,
   "metadata": {},
   "outputs": [],
   "source": [
    "from sklearn.metrics import accuracy_score"
   ]
  },
  {
   "cell_type": "code",
   "execution_count": 310,
   "metadata": {},
   "outputs": [
    {
     "data": {
      "text/plain": [
       "LogisticRegression(C=1.0, class_weight=None, dual=False, fit_intercept=True,\n",
       "                   intercept_scaling=1, l1_ratio=None, max_iter=100,\n",
       "                   multi_class='warn', n_jobs=None, penalty='l2',\n",
       "                   random_state=None, solver='lbfgs', tol=0.0001, verbose=0,\n",
       "                   warm_start=False)"
      ]
     },
     "execution_count": 310,
     "metadata": {},
     "output_type": "execute_result"
    }
   ],
   "source": [
    "LG_f = LogisticRegression(solver='lbfgs')\n",
    "LG_f.fit(X_train.values.reshape(-1, 1), y_train[\"s\"])"
   ]
  },
  {
   "cell_type": "code",
   "execution_count": 311,
   "metadata": {},
   "outputs": [
    {
     "data": {
      "text/plain": [
       "1.0"
      ]
     },
     "execution_count": 311,
     "metadata": {},
     "output_type": "execute_result"
    }
   ],
   "source": [
    "test_r = np.array(LG_g.predict_proba(X_test.values.reshape(-1,1))[:,1]/e1 > 0.5, dtype=int)\n",
    "accuracy_score(y_test[\"y\"],test_r)"
   ]
  },
  {
   "cell_type": "code",
   "execution_count": 312,
   "metadata": {},
   "outputs": [
    {
     "data": {
      "text/plain": [
       "1.0"
      ]
     },
     "execution_count": 312,
     "metadata": {},
     "output_type": "execute_result"
    }
   ],
   "source": [
    "test_r = np.array(LG_g.predict_proba(X_test.values.reshape(-1,1))[:,1]/e2 > 0.5, dtype=int)\n",
    "accuracy_score(y_test[\"y\"],test_r)"
   ]
  },
  {
   "cell_type": "code",
   "execution_count": 313,
   "metadata": {},
   "outputs": [
    {
     "data": {
      "text/plain": [
       "1.0"
      ]
     },
     "execution_count": 313,
     "metadata": {},
     "output_type": "execute_result"
    }
   ],
   "source": [
    "test_r = np.array(LG_g.predict_proba(X_test.values.reshape(-1,1))[:,1]/e3 > 0.5, dtype=int)\n",
    "accuracy_score(y_test[\"y\"],test_r)"
   ]
  },
  {
   "cell_type": "markdown",
   "metadata": {},
   "source": [
    "### Second way to improve f"
   ]
  },
  {
   "cell_type": "code",
   "execution_count": 301,
   "metadata": {},
   "outputs": [
    {
     "data": {
      "text/plain": [
       "LogisticRegression(C=1.0, class_weight=None, dual=False, fit_intercept=True,\n",
       "                   intercept_scaling=1, l1_ratio=None, max_iter=100,\n",
       "                   multi_class='warn', n_jobs=None, penalty='l2',\n",
       "                   random_state=None, solver='lbfgs', tol=0.0001, verbose=0,\n",
       "                   warm_start=False)"
      ]
     },
     "execution_count": 301,
     "metadata": {},
     "output_type": "execute_result"
    }
   ],
   "source": [
    "LG_g = LogisticRegression(solver='lbfgs')#random_state=0, , multi_class='multinomial'\n",
    "LG_g.fit(X_train.values.reshape(-1, 1), y_train[\"s\"])"
   ]
  },
  {
   "cell_type": "markdown",
   "metadata": {},
   "source": [
    "#### e1"
   ]
  },
  {
   "cell_type": "code",
   "execution_count": null,
   "metadata": {},
   "outputs": [],
   "source": [
    "# def create_new_train(e, X_train, y_train):\n",
    "#     X_train_new = pd.DataFrame(X_train.loc[y_train.index[y_train[\"s\"] == 1]])\n",
    "#     X_train_new[\"w\"] = 1\n",
    "#     y_train_new = pd.DataFrame([1]*len(X_train_new), columns=[\"s\"])\n",
    "#     X_train_1 = pd.DataFrame(X_train.loc[y_train.index[y_train[\"s\"] == 0]])\n",
    "#     g_x = LG_g.predict_proba(X_train_1[\"x\"].values.reshape(-1,1))[:,1]\n",
    "#     X_train_1[\"w\"] = (1-e1)/e1 * g_x/(1-g_x)\n",
    "#     y_train_1 = pd.DataFrame([1]*len(X_train_1), columns=[\"s\"])\n",
    "#     X_train_2 = pd.DataFrame(X_train.loc[y_train.index[y_train[\"s\"] == 0]])\n",
    "#     g_x = LG_g.predict_proba(X_train_2[\"x\"].values.reshape(-1,1))[:,1]\n",
    "#     X_train_2[\"w\"] = 1 - (1-e1)/e1 * g_x/ (1-g_x)\n",
    "#     y_train_2 = pd.DataFrame([0]*len(X_train_2), columns=[\"s\"])\n",
    "#     X_train_new = X_train_new.append(X_train_1)\n",
    "#     X_train_new = X_train_new.append(X_train_2)\n",
    "#     y_train_new = y_train_new.append(y_train_1)\n",
    "#     y_train_new = y_train_new.append(y_train_2)\n",
    "#     return X_train_new, y_train_new"
   ]
  },
  {
   "cell_type": "code",
   "execution_count": 302,
   "metadata": {},
   "outputs": [],
   "source": [
    "LG_f = LogisticRegression(solver='lbfgs')\n",
    "X_train_new = pd.DataFrame(X_train.loc[y_train.index[y_train[\"s\"] == 1]])\n",
    "X_train_new[\"w\"] = 1\n",
    "y_train_new = pd.DataFrame([1]*len(X_train_new), columns=[\"s\"])"
   ]
  },
  {
   "cell_type": "code",
   "execution_count": 303,
   "metadata": {},
   "outputs": [],
   "source": [
    "X_train_1 = pd.DataFrame(X_train.loc[y_train.index[y_train[\"s\"] == 0]])\n",
    "g_x = LG_g.predict_proba(X_train_1[\"x\"].values.reshape(-1,1))[:,1]\n",
    "X_train_1[\"w\"] = (1-e1)/e1 * g_x/(1-g_x)\n",
    "y_train_1 = pd.DataFrame([1]*len(X_train_1), columns=[\"s\"])"
   ]
  },
  {
   "cell_type": "code",
   "execution_count": 304,
   "metadata": {},
   "outputs": [],
   "source": [
    "X_train_2 = pd.DataFrame(X_train.loc[y_train.index[y_train[\"s\"] == 0]])\n",
    "g_x = LG_g.predict_proba(X_train_2[\"x\"].values.reshape(-1,1))[:,1]\n",
    "X_train_2[\"w\"] = 1 - (1-e1)/e1 * g_x/(1-g_x)\n",
    "y_train_2 = pd.DataFrame([0]*len(X_train_2), columns=[\"s\"])"
   ]
  },
  {
   "cell_type": "code",
   "execution_count": 305,
   "metadata": {},
   "outputs": [],
   "source": [
    "X_train_new = X_train_new.append(X_train_1)\n",
    "X_train_new = X_train_new.append(X_train_2)\n",
    "y_train_new = y_train_new.append(y_train_1)\n",
    "y_train_new = y_train_new.append(y_train_2)"
   ]
  },
  {
   "cell_type": "code",
   "execution_count": 314,
   "metadata": {
    "scrolled": false
   },
   "outputs": [
    {
     "data": {
      "text/plain": [
       "LogisticRegression(C=1.0, class_weight=None, dual=False, fit_intercept=True,\n",
       "                   intercept_scaling=1, l1_ratio=None, max_iter=100,\n",
       "                   multi_class='warn', n_jobs=None, penalty='l2',\n",
       "                   random_state=None, solver='lbfgs', tol=0.0001, verbose=0,\n",
       "                   warm_start=False)"
      ]
     },
     "execution_count": 314,
     "metadata": {},
     "output_type": "execute_result"
    }
   ],
   "source": [
    "LG_f.fit(X_train_new['x'].values.reshape(-1, 1), y_train_new[\"s\"], sample_weight=X_train_new['w'])"
   ]
  },
  {
   "cell_type": "code",
   "execution_count": 315,
   "metadata": {},
   "outputs": [
    {
     "data": {
      "text/plain": [
       "0.24962178517397882"
      ]
     },
     "execution_count": 315,
     "metadata": {},
     "output_type": "execute_result"
    }
   ],
   "source": [
    "LG_f.score(X_test.values.reshape(-1, 1),y_test['s'])"
   ]
  },
  {
   "cell_type": "markdown",
   "metadata": {},
   "source": [
    "#### e2"
   ]
  },
  {
   "cell_type": "code",
   "execution_count": 289,
   "metadata": {},
   "outputs": [],
   "source": [
    "LG_f = LogisticRegression(solver='lbfgs')\n",
    "X_train_new = pd.DataFrame(X_train.loc[y_train.index[y_train[\"s\"] == 1]])\n",
    "X_train_new[\"w\"] = 1\n",
    "y_train_new = pd.DataFrame([1]*len(X_train_new), columns=[\"s\"])\n",
    "X_train_1 = pd.DataFrame(X_train.loc[y_train.index[y_train[\"s\"] == 0]])\n",
    "g_x = LG_g.predict_proba(X_train_1[\"x\"].values.reshape(-1,1))[:,1]\n",
    "X_train_1[\"w\"] = (1-e2)/e2 * g_x/(1-g_x)\n",
    "y_train_1 = pd.DataFrame([1]*len(X_train_1), columns=[\"s\"])\n",
    "X_train_2 = pd.DataFrame(X_train.loc[y_train.index[y_train[\"s\"] == 0]])\n",
    "g_x = LG_g.predict_proba(X_train_2[\"x\"].values.reshape(-1,1))[:,1]\n",
    "X_train_2[\"w\"] = 1 - (1-e2)/e2 * g_x/ (1-g_x)\n",
    "y_train_2 = pd.DataFrame([0]*len(X_train_2), columns=[\"s\"])\n",
    "X_train_new = X_train_new.append(X_train_1)\n",
    "X_train_new = X_train_new.append(X_train_2)\n",
    "y_train_new = y_train_new.append(y_train_1)\n",
    "y_train_new = y_train_new.append(y_train_2)"
   ]
  },
  {
   "cell_type": "code",
   "execution_count": 290,
   "metadata": {},
   "outputs": [
    {
     "data": {
      "text/plain": [
       "LogisticRegression(C=1.0, class_weight=None, dual=False, fit_intercept=True,\n",
       "                   intercept_scaling=1, l1_ratio=None, max_iter=100,\n",
       "                   multi_class='warn', n_jobs=None, penalty='l2',\n",
       "                   random_state=None, solver='lbfgs', tol=0.0001, verbose=0,\n",
       "                   warm_start=False)"
      ]
     },
     "execution_count": 290,
     "metadata": {},
     "output_type": "execute_result"
    }
   ],
   "source": [
    "LG_f.fit(X_train_new['x'].values.reshape(-1, 1), y_train_new[\"s\"], X_train_new['w'])"
   ]
  },
  {
   "cell_type": "code",
   "execution_count": 291,
   "metadata": {},
   "outputs": [
    {
     "data": {
      "text/plain": [
       "0.6777609682299546"
      ]
     },
     "execution_count": 291,
     "metadata": {},
     "output_type": "execute_result"
    }
   ],
   "source": [
    "LG_f.score(X_test.values.reshape(-1, 1),y_test['s'])"
   ]
  },
  {
   "cell_type": "markdown",
   "metadata": {},
   "source": [
    "#### e3"
   ]
  },
  {
   "cell_type": "code",
   "execution_count": 292,
   "metadata": {},
   "outputs": [],
   "source": [
    "LG_f = LogisticRegression(solver='lbfgs')\n",
    "X_train_new = pd.DataFrame(X_train.loc[y_train.index[y_train[\"s\"] == 1]])\n",
    "X_train_new[\"w\"] = 1\n",
    "y_train_new = pd.DataFrame([1]*len(X_train_new), columns=[\"s\"])\n",
    "X_train_1 = pd.DataFrame(X_train.loc[y_train.index[y_train[\"s\"] == 0]])\n",
    "g_x = LG_g.predict_proba(X_train_1[\"x\"].values.reshape(-1,1))[:,1]\n",
    "X_train_1[\"w\"] = (1-e3)/e3 * g_x/(1-g_x)\n",
    "y_train_1 = pd.DataFrame([1]*len(X_train_1), columns=[\"s\"])\n",
    "X_train_2 = pd.DataFrame(X_train.loc[y_train.index[y_train[\"s\"] == 0]])\n",
    "g_x = LG_g.predict_proba(X_train_2[\"x\"].values.reshape(-1,1))[:,1]\n",
    "X_train_2[\"w\"] = 1 - (1-e3)/e3 * g_x/ (1-g_x)\n",
    "y_train_2 = pd.DataFrame([0]*len(X_train_2), columns=[\"s\"])\n",
    "X_train_new = X_train_new.append(X_train_1)\n",
    "X_train_new = X_train_new.append(X_train_2)\n",
    "y_train_new = y_train_new.append(y_train_1)\n",
    "y_train_new = y_train_new.append(y_train_2)"
   ]
  },
  {
   "cell_type": "code",
   "execution_count": 293,
   "metadata": {},
   "outputs": [
    {
     "data": {
      "text/plain": [
       "LogisticRegression(C=1.0, class_weight=None, dual=False, fit_intercept=True,\n",
       "                   intercept_scaling=1, l1_ratio=None, max_iter=100,\n",
       "                   multi_class='warn', n_jobs=None, penalty='l2',\n",
       "                   random_state=None, solver='lbfgs', tol=0.0001, verbose=0,\n",
       "                   warm_start=False)"
      ]
     },
     "execution_count": 293,
     "metadata": {},
     "output_type": "execute_result"
    }
   ],
   "source": [
    "LG_f.fit(X_train_new['x'].values.reshape(-1, 1), y_train_new[\"s\"], X_train_new['w'])"
   ]
  },
  {
   "cell_type": "code",
   "execution_count": 294,
   "metadata": {},
   "outputs": [
    {
     "data": {
      "text/plain": [
       "0.7579425113464447"
      ]
     },
     "execution_count": 294,
     "metadata": {},
     "output_type": "execute_result"
    }
   ],
   "source": [
    "LG_f.score(X_test.values.reshape(-1, 1),y_test['s'])"
   ]
  },
  {
   "cell_type": "code",
   "execution_count": null,
   "metadata": {},
   "outputs": [],
   "source": []
  },
  {
   "cell_type": "code",
   "execution_count": null,
   "metadata": {},
   "outputs": [],
   "source": []
  }
 ],
 "metadata": {
  "kernelspec": {
   "display_name": "Python 3",
   "language": "python",
   "name": "python3"
  },
  "language_info": {
   "codemirror_mode": {
    "name": "ipython",
    "version": 3
   },
   "file_extension": ".py",
   "mimetype": "text/x-python",
   "name": "python",
   "nbconvert_exporter": "python",
   "pygments_lexer": "ipython3",
   "version": "3.7.3"
  }
 },
 "nbformat": 4,
 "nbformat_minor": 2
}
