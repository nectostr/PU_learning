{
 "cells": [
  {
   "cell_type": "markdown",
   "metadata": {},
   "source": [
    "## PU learning"
   ]
  },
  {
   "cell_type": "code",
   "execution_count": 2,
   "metadata": {},
   "outputs": [],
   "source": [
    "from scipy import signal\n",
    "from scipy import stats\n",
    "from matplotlib import pyplot as plt\n",
    "import numpy as np \n",
    "import pandas as pd"
   ]
  },
  {
   "cell_type": "code",
   "execution_count": 3,
   "metadata": {},
   "outputs": [],
   "source": [
    "import sklearn as sk\n",
    "from sklearn.ensemble import RandomForestClassifier\n",
    "from sklearn.linear_model import LogisticRegression\n",
    "from sklearn.model_selection import train_test_split\n",
    "from sklearn.metrics import accuracy_score, f1_score, roc_auc_score\n",
    "from sklearn import metrics"
   ]
  },
  {
   "cell_type": "markdown",
   "metadata": {},
   "source": [
    "### Data Creating"
   ]
  },
  {
   "cell_type": "markdown",
   "metadata": {},
   "source": [
    "Let's create some syntetic data based on gaussian windows."
   ]
  },
  {
   "cell_type": "code",
   "execution_count": 45,
   "metadata": {
    "scrolled": true
   },
   "outputs": [
    {
     "name": "stdout",
     "output_type": "stream",
     "text": [
      "[[ 9.80251676 11.70969263]\n",
      " [12.29134693 12.3507567 ]\n",
      " [ 8.21039786 10.4924401 ]\n",
      " ...\n",
      " [13.18677219 11.29525075]\n",
      " [ 8.31123336 13.54654691]\n",
      " [ 8.26707961 13.90335637]]\n"
     ]
    },
    {
     "data": {
      "image/png": "[encoded data removed]",
      "text/plain": [
       "<Figure size 432x288 with 1 Axes>"
      ]
     },
     "metadata": {
      "needs_background": "light"
     },
     "output_type": "display_data"
    }
   ],
   "source": [
    "x = np.linspace(0, 1, 2, endpoint=False)\n",
    "gaussian_arr1 = stats.multivariate_normal(x, 5, 30).rvs(1000) + np.array([10,10])\n",
    "print(gaussian_arr1)\n",
    "plt.scatter(gaussian_arr1[:,0], gaussian_arr1[:,1], label=\"samples 1\")\n",
    "\n",
    "gaussian_arr0 = stats.multivariate_normal(x, 30, 2).rvs(1000)\n",
    "plt.scatter(gaussian_arr0[:,0], gaussian_arr0[:,1], label=\"samples 0\")\n",
    "plt.legend()\n",
    "plt.show()"
   ]
  },
  {
   "cell_type": "markdown",
   "metadata": {},
   "source": [
    "Mixing the datas to dataframe with correct labels"
   ]
  },
  {
   "cell_type": "code",
   "execution_count": 49,
   "metadata": {},
   "outputs": [],
   "source": [
    "x_col = [\"x\" + str(i) for i in range(len(gaussian_arr0[0]))]\n",
    "df = pd.DataFrame(data=np.vstack((gaussian_arr1, gaussian_arr0)), columns=x_col)\n",
    "df[\"y\"] =  [1]*len(gaussian_arr1) + [0]*len(gaussian_arr0)#1 - for gaussian 0 - for laplaccian"
   ]
  },
  {
   "cell_type": "markdown",
   "metadata": {},
   "source": [
    "Suffling whole data."
   ]
  },
  {
   "cell_type": "code",
   "execution_count": 50,
   "metadata": {},
   "outputs": [],
   "source": [
    "df = df.sample(frac=1).reset_index(drop=True)"
   ]
  },
  {
   "cell_type": "code",
   "execution_count": 51,
   "metadata": {},
   "outputs": [
    {
     "data": {
      "text/html": [
       "<div>\n",
       "<style scoped>\n",
       "    .dataframe tbody tr th:only-of-type {\n",
       "        vertical-align: middle;\n",
       "    }\n",
       "\n",
       "    .dataframe tbody tr th {\n",
       "        vertical-align: top;\n",
       "    }\n",
       "\n",
       "    .dataframe thead th {\n",
       "        text-align: right;\n",
       "    }\n",
       "</style>\n",
       "<table border=\"1\" class=\"dataframe\">\n",
       "  <thead>\n",
       "    <tr style=\"text-align: right;\">\n",
       "      <th></th>\n",
       "      <th>x0</th>\n",
       "      <th>x1</th>\n",
       "      <th>y</th>\n",
       "    </tr>\n",
       "  </thead>\n",
       "  <tbody>\n",
       "    <tr>\n",
       "      <th>0</th>\n",
       "      <td>9.889903</td>\n",
       "      <td>12.439738</td>\n",
       "      <td>1</td>\n",
       "    </tr>\n",
       "    <tr>\n",
       "      <th>1</th>\n",
       "      <td>13.532338</td>\n",
       "      <td>-3.000525</td>\n",
       "      <td>0</td>\n",
       "    </tr>\n",
       "    <tr>\n",
       "      <th>2</th>\n",
       "      <td>0.626560</td>\n",
       "      <td>-3.795246</td>\n",
       "      <td>0</td>\n",
       "    </tr>\n",
       "    <tr>\n",
       "      <th>3</th>\n",
       "      <td>9.778239</td>\n",
       "      <td>12.640728</td>\n",
       "      <td>1</td>\n",
       "    </tr>\n",
       "    <tr>\n",
       "      <th>4</th>\n",
       "      <td>-0.379967</td>\n",
       "      <td>1.937028</td>\n",
       "      <td>0</td>\n",
       "    </tr>\n",
       "  </tbody>\n",
       "</table>\n",
       "</div>"
      ],
      "text/plain": [
       "          x0         x1  y\n",
       "0   9.889903  12.439738  1\n",
       "1  13.532338  -3.000525  0\n",
       "2   0.626560  -3.795246  0\n",
       "3   9.778239  12.640728  1\n",
       "4  -0.379967   1.937028  0"
      ]
     },
     "execution_count": 51,
     "metadata": {},
     "output_type": "execute_result"
    }
   ],
   "source": [
    "df.head()"
   ]
  },
  {
   "cell_type": "markdown",
   "metadata": {},
   "source": [
    "### Normal classifier, normal data example"
   ]
  },
  {
   "cell_type": "code",
   "execution_count": 52,
   "metadata": {},
   "outputs": [],
   "source": [
    "X_train, X_test, y_train, y_test = train_test_split(df[x_col], df[\"y\"], test_size=0.33, random_state=42)"
   ]
  },
  {
   "cell_type": "markdown",
   "metadata": {},
   "source": [
    "As an exaple of classifier i would use Random Forest classifier from sklearn lib, course it one of the mentioned classifiers in article and can be easily replaced with any other from sklearn with no code changes."
   ]
  },
  {
   "cell_type": "code",
   "execution_count": 53,
   "metadata": {},
   "outputs": [],
   "source": [
    "classifier = RandomForestClassifier\n",
    "params = {\"n_estimators\":100, \"max_depth\":2, \"random_state\":0}\n",
    "# calssifier = LogisticRegression\n",
    "# params = {\"solver\":'lbfgs'}"
   ]
  },
  {
   "cell_type": "code",
   "execution_count": 54,
   "metadata": {},
   "outputs": [
    {
     "data": {
      "text/plain": [
       "RandomForestClassifier(bootstrap=True, class_weight=None, criterion='gini',\n",
       "                       max_depth=2, max_features='auto', max_leaf_nodes=None,\n",
       "                       min_impurity_decrease=0.0, min_impurity_split=None,\n",
       "                       min_samples_leaf=1, min_samples_split=2,\n",
       "                       min_weight_fraction_leaf=0.0, n_estimators=100,\n",
       "                       n_jobs=None, oob_score=False, random_state=0, verbose=0,\n",
       "                       warm_start=False)"
      ]
     },
     "execution_count": 54,
     "metadata": {},
     "output_type": "execute_result"
    }
   ],
   "source": [
    "CL_ex = classifier(**params)\n",
    "CL_ex.fit(X_train, y_train)"
   ]
  },
  {
   "cell_type": "code",
   "execution_count": 55,
   "metadata": {},
   "outputs": [
    {
     "name": "stdout",
     "output_type": "stream",
     "text": [
      "acc is 0.9788, f1 is 0.9789, roc is 0.9788\n"
     ]
    }
   ],
   "source": [
    "y_pred = CL_ex.predict(X_test)\n",
    "print(f\"acc is {accuracy_score(y_test, y_pred):.4f}, \"\n",
    "      f\"f1 is {f1_score(y_test, y_pred):.4f}, \"\n",
    "      f\"roc is {roc_auc_score(y_test, y_pred):.4f}\")"
   ]
  },
  {
   "cell_type": "markdown",
   "metadata": {},
   "source": [
    "Let's make some of the data undefined."
   ]
  },
  {
   "cell_type": "code",
   "execution_count": 56,
   "metadata": {},
   "outputs": [],
   "source": [
    "df[\"s\"] = df[\"y\"] * np.random.randint(0,2,len(df))"
   ]
  },
  {
   "cell_type": "code",
   "execution_count": 57,
   "metadata": {},
   "outputs": [
    {
     "data": {
      "text/html": [
       "<div>\n",
       "<style scoped>\n",
       "    .dataframe tbody tr th:only-of-type {\n",
       "        vertical-align: middle;\n",
       "    }\n",
       "\n",
       "    .dataframe tbody tr th {\n",
       "        vertical-align: top;\n",
       "    }\n",
       "\n",
       "    .dataframe thead th {\n",
       "        text-align: right;\n",
       "    }\n",
       "</style>\n",
       "<table border=\"1\" class=\"dataframe\">\n",
       "  <thead>\n",
       "    <tr style=\"text-align: right;\">\n",
       "      <th></th>\n",
       "      <th>x0</th>\n",
       "      <th>x1</th>\n",
       "      <th>y</th>\n",
       "      <th>s</th>\n",
       "    </tr>\n",
       "  </thead>\n",
       "  <tbody>\n",
       "    <tr>\n",
       "      <th>0</th>\n",
       "      <td>9.889903</td>\n",
       "      <td>12.439738</td>\n",
       "      <td>1</td>\n",
       "      <td>1</td>\n",
       "    </tr>\n",
       "    <tr>\n",
       "      <th>1</th>\n",
       "      <td>13.532338</td>\n",
       "      <td>-3.000525</td>\n",
       "      <td>0</td>\n",
       "      <td>0</td>\n",
       "    </tr>\n",
       "    <tr>\n",
       "      <th>2</th>\n",
       "      <td>0.626560</td>\n",
       "      <td>-3.795246</td>\n",
       "      <td>0</td>\n",
       "      <td>0</td>\n",
       "    </tr>\n",
       "    <tr>\n",
       "      <th>3</th>\n",
       "      <td>9.778239</td>\n",
       "      <td>12.640728</td>\n",
       "      <td>1</td>\n",
       "      <td>1</td>\n",
       "    </tr>\n",
       "    <tr>\n",
       "      <th>4</th>\n",
       "      <td>-0.379967</td>\n",
       "      <td>1.937028</td>\n",
       "      <td>0</td>\n",
       "      <td>0</td>\n",
       "    </tr>\n",
       "  </tbody>\n",
       "</table>\n",
       "</div>"
      ],
      "text/plain": [
       "          x0         x1  y  s\n",
       "0   9.889903  12.439738  1  1\n",
       "1  13.532338  -3.000525  0  0\n",
       "2   0.626560  -3.795246  0  0\n",
       "3   9.778239  12.640728  1  1\n",
       "4  -0.379967   1.937028  0  0"
      ]
     },
     "execution_count": 57,
     "metadata": {},
     "output_type": "execute_result"
    }
   ],
   "source": [
    "df.head()"
   ]
  },
  {
   "cell_type": "code",
   "execution_count": 58,
   "metadata": {},
   "outputs": [],
   "source": [
    "X_train, X_test, y_train, y_test = train_test_split(df[x_col], df[[\"s\",\"y\"]], test_size=0.33, random_state=42)"
   ]
  },
  {
   "cell_type": "code",
   "execution_count": 59,
   "metadata": {},
   "outputs": [
    {
     "data": {
      "text/plain": [
       "RandomForestClassifier(bootstrap=True, class_weight=None, criterion='gini',\n",
       "                       max_depth=2, max_features='auto', max_leaf_nodes=None,\n",
       "                       min_impurity_decrease=0.0, min_impurity_split=None,\n",
       "                       min_samples_leaf=1, min_samples_split=2,\n",
       "                       min_weight_fraction_leaf=0.0, n_estimators=100,\n",
       "                       n_jobs=None, oob_score=False, random_state=0, verbose=0,\n",
       "                       warm_start=False)"
      ]
     },
     "execution_count": 59,
     "metadata": {},
     "output_type": "execute_result"
    }
   ],
   "source": [
    "CL_ex = classifier(**params)\n",
    "CL_ex.fit(X_train, y_train[\"s\"])"
   ]
  },
  {
   "cell_type": "markdown",
   "metadata": {},
   "source": [
    "Ordinary classifier works bad with undefined data - it can't learn unreal dependense (will the value be def or undef) and can't learn real dependense - undefined data mixes everething two much."
   ]
  },
  {
   "cell_type": "code",
   "execution_count": 60,
   "metadata": {},
   "outputs": [
    {
     "name": "stdout",
     "output_type": "stream",
     "text": [
      "Score for s is 0.7530, course unreal dependense is hard to learn\n",
      "Score for y is 0.5045 course real dependense is hard to learn from unreal\n",
      "Classification report for classifier RandomForestClassifier(bootstrap=True, class_weight=None, criterion='gini',\n",
      "                       max_depth=2, max_features='auto', max_leaf_nodes=None,\n",
      "                       min_impurity_decrease=0.0, min_impurity_split=None,\n",
      "                       min_samples_leaf=1, min_samples_split=2,\n",
      "                       min_weight_fraction_leaf=0.0, n_estimators=100,\n",
      "                       n_jobs=None, oob_score=False, random_state=0, verbose=0,\n",
      "                       warm_start=False):\n",
      "              precision    recall  f1-score   support\n",
      "\n",
      "           0       0.50      1.00      0.67       331\n",
      "           1       1.00      0.01      0.01       329\n",
      "\n",
      "    accuracy                           0.50       660\n",
      "   macro avg       0.75      0.50      0.34       660\n",
      "weighted avg       0.75      0.50      0.34       660\n",
      "\n",
      "\n",
      "Confusion matrix:\n",
      "[[331   0]\n",
      " [327   2]]\n"
     ]
    }
   ],
   "source": [
    "CL_ex.predict(X_test)\n",
    "print(f\"Score for s is {CL_ex.score(X_test, y_test['s']):.4f}, course unreal dependense is hard to learn\")\n",
    "print(f\"Score for y is {CL_ex.score(X_test, y_test['y']):.4f} course real dependense is hard to learn from unreal\")\n",
    "expected = y_test[\"y\"]\n",
    "predicted = CL_ex.predict(X_test)\n",
    "\n",
    "print(\"Classification report for classifier %s:\\n%s\\n\"\n",
    "      % (CL_ex, metrics.classification_report(expected, predicted)))\n",
    "print(\"Confusion matrix:\\n%s\" % metrics.confusion_matrix(expected, predicted))"
   ]
  },
  {
   "cell_type": "markdown",
   "metadata": {},
   "source": [
    "Let's build classifier, that would cope with defined-undefined data."
   ]
  },
  {
   "cell_type": "markdown",
   "metadata": {},
   "source": [
    "### Divide data"
   ]
  },
  {
   "cell_type": "code",
   "execution_count": 61,
   "metadata": {},
   "outputs": [],
   "source": [
    "X_train, X_test, y_train, y_test = train_test_split(df[x_col], df[[\"s\", 'y']], test_size=0.33, random_state=42)\n",
    "X_train, X_val, y_train, y_val = train_test_split(X_train, y_train, test_size=0.33, random_state=42)"
   ]
  },
  {
   "cell_type": "markdown",
   "metadata": {},
   "source": [
    "### Fit g classificator"
   ]
  },
  {
   "cell_type": "code",
   "execution_count": 62,
   "metadata": {},
   "outputs": [
    {
     "data": {
      "text/plain": [
       "RandomForestClassifier(bootstrap=True, class_weight=None, criterion='gini',\n",
       "                       max_depth=2, max_features='auto', max_leaf_nodes=None,\n",
       "                       min_impurity_decrease=0.0, min_impurity_split=None,\n",
       "                       min_samples_leaf=1, min_samples_split=2,\n",
       "                       min_weight_fraction_leaf=0.0, n_estimators=100,\n",
       "                       n_jobs=None, oob_score=False, random_state=0, verbose=0,\n",
       "                       warm_start=False)"
      ]
     },
     "execution_count": 62,
     "metadata": {},
     "output_type": "execute_result"
    }
   ],
   "source": [
    "CL_g = classifier(**params)\n",
    "CL_g.fit(X_train, y_train[\"s\"])"
   ]
  },
  {
   "cell_type": "markdown",
   "metadata": {},
   "source": [
    "### Estimating c"
   ]
  },
  {
   "cell_type": "markdown",
   "metadata": {},
   "source": [
    "As written in article c is probability that if data is type 1 - it will be defined data that can be estimated via classifier g, builded on Def/Undef data"
   ]
  },
  {
   "cell_type": "markdown",
   "metadata": {},
   "source": [
    "There are three ways to estimate c, described in article."
   ]
  },
  {
   "cell_type": "code",
   "execution_count": 63,
   "metadata": {},
   "outputs": [
    {
     "data": {
      "text/plain": [
       "0.44215551308463236"
      ]
     },
     "execution_count": 63,
     "metadata": {},
     "output_type": "execute_result"
    }
   ],
   "source": [
    "X_val_p = X_val.loc[X_val.index[y_val[\"s\"] == 1]]\n",
    "d_p = CL_g.predict_proba(X_val_p)[:,1]\n",
    "e1 = d_p.sum()/len(X_val_p)\n",
    "e1"
   ]
  },
  {
   "cell_type": "code",
   "execution_count": 64,
   "metadata": {},
   "outputs": [
    {
     "data": {
      "text/plain": [
       "0.5171054217467714"
      ]
     },
     "execution_count": 64,
     "metadata": {},
     "output_type": "execute_result"
    }
   ],
   "source": [
    "d_v = CL_g.predict_proba(X_val)[:,1]\n",
    "e2 = d_p.sum()/d_v.sum()\n",
    "e2"
   ]
  },
  {
   "cell_type": "code",
   "execution_count": 65,
   "metadata": {},
   "outputs": [
    {
     "data": {
      "text/plain": [
       "0.5037896682402127"
      ]
     },
     "execution_count": 65,
     "metadata": {},
     "output_type": "execute_result"
    }
   ],
   "source": [
    "e3 = d_v.max()\n",
    "e3"
   ]
  },
  {
   "cell_type": "markdown",
   "metadata": {},
   "source": [
    "### First way to create f classificator"
   ]
  },
  {
   "cell_type": "markdown",
   "metadata": {},
   "source": [
    "###### IT IS NOT THE PART OF ARTICLE\n",
    "While i was reading article, i had an idea that classifier could be easily improved with deviding result on c."
   ]
  },
  {
   "cell_type": "code",
   "execution_count": 66,
   "metadata": {},
   "outputs": [
    {
     "data": {
      "text/plain": [
       "RandomForestClassifier(bootstrap=True, class_weight=None, criterion='gini',\n",
       "                       max_depth=2, max_features='auto', max_leaf_nodes=None,\n",
       "                       min_impurity_decrease=0.0, min_impurity_split=None,\n",
       "                       min_samples_leaf=1, min_samples_split=2,\n",
       "                       min_weight_fraction_leaf=0.0, n_estimators=100,\n",
       "                       n_jobs=None, oob_score=False, random_state=0, verbose=0,\n",
       "                       warm_start=False)"
      ]
     },
     "execution_count": 66,
     "metadata": {},
     "output_type": "execute_result"
    }
   ],
   "source": [
    "CL_f = classifier(**params)\n",
    "CL_f.fit(X_train, y_train[\"s\"])"
   ]
  },
  {
   "cell_type": "code",
   "execution_count": 68,
   "metadata": {},
   "outputs": [
    {
     "data": {
      "text/plain": [
       "0.9787878787878788"
      ]
     },
     "execution_count": 68,
     "metadata": {},
     "output_type": "execute_result"
    }
   ],
   "source": [
    "c = e1 # e2 or e3\n",
    "y_pred = np.array(CL_f.predict_proba(X_test)[:,1]/c > 0.5, dtype=int)\n",
    "accuracy_score(y_test[\"y\"],y_pred)"
   ]
  },
  {
   "cell_type": "markdown",
   "metadata": {},
   "source": [
    "### Second way to improve classifier f"
   ]
  },
  {
   "cell_type": "markdown",
   "metadata": {},
   "source": [
    "The way, that was used by the authors of article is to create weights of each sample build on g prediction for value and parametr c."
   ]
  },
  {
   "cell_type": "code",
   "execution_count": 69,
   "metadata": {},
   "outputs": [],
   "source": [
    "def create_new_train(e, X_train, y_train, CL):\n",
    "    X_train_new = pd.DataFrame(X_train.loc[y_train.index[y_train[\"s\"] == 1]])\n",
    "    X_train_new[\"w\"] = 1\n",
    "    y_train_new = pd.DataFrame([1]*len(X_train_new), columns=[\"s\"])\n",
    "    X_train_1 = pd.DataFrame(X_train.loc[y_train.index[y_train[\"s\"] == 0]])\n",
    "    g_x = CL.predict_proba(X_train_1[x_col])[:,1]\n",
    "    X_train_1[\"w\"] = (1-e)/e * g_x/(1-g_x)\n",
    "    y_train_1 = pd.DataFrame([1]*len(X_train_1), columns=[\"s\"])\n",
    "    X_train_2 = pd.DataFrame(X_train.loc[y_train.index[y_train[\"s\"] == 0]])\n",
    "    g_x = CL.predict_proba(X_train_2[x_col])[:,1]\n",
    "    X_train_2[\"w\"] = 1 - (1-e)/e * g_x/ (1-g_x)\n",
    "    y_train_2 = pd.DataFrame([0]*len(X_train_2), columns=[\"s\"])\n",
    "    X_train_new = X_train_new.append(X_train_1, ignore_index=True, sort=False)\n",
    "    X_train_new = X_train_new.append(X_train_2, ignore_index=True, sort=False)\n",
    "    y_train_new = y_train_new.append(y_train_1, ignore_index=True, sort=False)\n",
    "    y_train_new = y_train_new.append(y_train_2, ignore_index=True, sort=False)\n",
    "    return X_train_new, y_train_new"
   ]
  },
  {
   "cell_type": "markdown",
   "metadata": {},
   "source": [
    "#### e1"
   ]
  },
  {
   "cell_type": "code",
   "execution_count": 70,
   "metadata": {},
   "outputs": [
    {
     "name": "stdout",
     "output_type": "stream",
     "text": [
      "Classification report for classifier RandomForestClassifier(bootstrap=True, class_weight=None, criterion='gini',\n",
      "                       max_depth=2, max_features='auto', max_leaf_nodes=None,\n",
      "                       min_impurity_decrease=0.0, min_impurity_split=None,\n",
      "                       min_samples_leaf=1, min_samples_split=2,\n",
      "                       min_weight_fraction_leaf=0.0, n_estimators=100,\n",
      "                       n_jobs=None, oob_score=False, random_state=0, verbose=0,\n",
      "                       warm_start=False):\n",
      "              precision    recall  f1-score   support\n",
      "\n",
      "           0       0.99      0.97      0.98       331\n",
      "           1       0.97      0.99      0.98       329\n",
      "\n",
      "    accuracy                           0.98       660\n",
      "   macro avg       0.98      0.98      0.98       660\n",
      "weighted avg       0.98      0.98      0.98       660\n",
      "\n",
      "\n",
      "Confusion matrix:\n",
      "[[321  10]\n",
      " [  4 325]]\n"
     ]
    }
   ],
   "source": [
    "CL_f = classifier(**params)\n",
    "X_train_new, y_train_new = create_new_train(e1, X_train, y_train, CL_g)\n",
    "CL_f.fit(X_train_new[x_col], y_train_new[\"s\"], sample_weight=X_train_new['w'])\n",
    "y_pred = CL_f.predict(X_test)\n",
    "expected = y_test[\"y\"]\n",
    "predicted = CL_f.predict(X_test)\n",
    "\n",
    "print(\"Classification report for classifier %s:\\n%s\\n\"\n",
    "      % (CL_f, metrics.classification_report(expected, predicted)))\n",
    "print(\"Confusion matrix:\\n%s\" % metrics.confusion_matrix(expected, predicted))"
   ]
  },
  {
   "cell_type": "markdown",
   "metadata": {},
   "source": [
    "#### e2"
   ]
  },
  {
   "cell_type": "code",
   "execution_count": 71,
   "metadata": {},
   "outputs": [
    {
     "name": "stdout",
     "output_type": "stream",
     "text": [
      "Classification report for classifier RandomForestClassifier(bootstrap=True, class_weight=None, criterion='gini',\n",
      "                       max_depth=2, max_features='auto', max_leaf_nodes=None,\n",
      "                       min_impurity_decrease=0.0, min_impurity_split=None,\n",
      "                       min_samples_leaf=1, min_samples_split=2,\n",
      "                       min_weight_fraction_leaf=0.0, n_estimators=100,\n",
      "                       n_jobs=None, oob_score=False, random_state=0, verbose=0,\n",
      "                       warm_start=False):\n",
      "              precision    recall  f1-score   support\n",
      "\n",
      "           0       0.97      0.97      0.97       331\n",
      "           1       0.97      0.97      0.97       329\n",
      "\n",
      "    accuracy                           0.97       660\n",
      "   macro avg       0.97      0.97      0.97       660\n",
      "weighted avg       0.97      0.97      0.97       660\n",
      "\n",
      "\n",
      "Confusion matrix:\n",
      "[[322   9]\n",
      " [  9 320]]\n"
     ]
    }
   ],
   "source": [
    "CL_f = classifier(**params)\n",
    "X_train_new, y_train_new = create_new_train(e2, X_train, y_train, CL_g)\n",
    "CL_f.fit(X_train_new[x_col], y_train_new[\"s\"], sample_weight=X_train_new['w'])\n",
    "expected = y_test[\"y\"]\n",
    "predicted = CL_f.predict(X_test)\n",
    "\n",
    "print(\"Classification report for classifier %s:\\n%s\\n\"\n",
    "      % (CL_f, metrics.classification_report(expected, predicted)))\n",
    "print(\"Confusion matrix:\\n%s\" % metrics.confusion_matrix(expected, predicted))"
   ]
  },
  {
   "cell_type": "markdown",
   "metadata": {},
   "source": [
    "#### e3"
   ]
  },
  {
   "cell_type": "code",
   "execution_count": 72,
   "metadata": {},
   "outputs": [
    {
     "name": "stdout",
     "output_type": "stream",
     "text": [
      "Classification report for classifier RandomForestClassifier(bootstrap=True, class_weight=None, criterion='gini',\n",
      "                       max_depth=2, max_features='auto', max_leaf_nodes=None,\n",
      "                       min_impurity_decrease=0.0, min_impurity_split=None,\n",
      "                       min_samples_leaf=1, min_samples_split=2,\n",
      "                       min_weight_fraction_leaf=0.0, n_estimators=100,\n",
      "                       n_jobs=None, oob_score=False, random_state=0, verbose=0,\n",
      "                       warm_start=False):\n",
      "              precision    recall  f1-score   support\n",
      "\n",
      "           0       0.98      0.97      0.97       331\n",
      "           1       0.97      0.98      0.97       329\n",
      "\n",
      "    accuracy                           0.97       660\n",
      "   macro avg       0.97      0.97      0.97       660\n",
      "weighted avg       0.97      0.97      0.97       660\n",
      "\n",
      "\n",
      "Confusion matrix:\n",
      "[[322   9]\n",
      " [  8 321]]\n"
     ]
    }
   ],
   "source": [
    "CL_f = classifier(**params)\n",
    "X_train_new, y_train_new = create_new_train(e3, X_train, y_train, CL_g)\n",
    "CL_f.fit(X_train_new[x_col], y_train_new[\"s\"], sample_weight=X_train_new['w'])\n",
    "expected = y_test[\"y\"]\n",
    "predicted = CL_f.predict(X_test)\n",
    "\n",
    "print(\"Classification report for classifier %s:\\n%s\\n\"\n",
    "      % (CL_f, metrics.classification_report(expected, predicted)))\n",
    "print(\"Confusion matrix:\\n%s\" % metrics.confusion_matrix(expected, predicted))"
   ]
  },
  {
   "cell_type": "code",
   "execution_count": 73,
   "metadata": {},
   "outputs": [
    {
     "data": {
      "text/plain": [
       "array([0, 1, 1, 0, 1, 1, 0, 1, 0, 0, 1, 1, 0, 0, 0, 0, 1, 0, 0, 1, 0, 0,\n",
       "       0, 0, 1, 0, 0, 1, 0, 1, 0, 1, 0, 0, 1, 1, 0, 0, 1, 0, 0, 1, 1, 0,\n",
       "       1, 1, 1, 0, 1, 1, 0, 1, 0, 0, 0, 1, 0, 1, 0, 0, 1, 1, 1, 1, 1, 0,\n",
       "       0, 1, 0, 1, 1, 0, 0, 0, 1, 0, 0, 1, 0, 0, 0, 0, 0, 0, 1, 1, 1, 1,\n",
       "       1, 0, 1, 1, 0, 1, 0, 0, 0, 1, 1, 1, 0, 0, 0, 1, 0, 0, 0, 1, 0, 1,\n",
       "       1, 1, 1, 1, 1, 1, 0, 0, 1, 1, 0, 0, 1, 0, 0, 1, 1, 1, 1, 0, 0, 1,\n",
       "       0, 1, 0, 0, 1, 1, 1, 0, 0, 0, 1, 1, 1, 1, 0, 0, 1, 0, 1, 0, 0, 0,\n",
       "       1, 0, 1, 1, 0, 0, 0, 1, 1, 0, 0, 0, 0, 0, 1, 1, 0, 1, 0, 0, 0, 1,\n",
       "       1, 1, 1, 1, 0, 1, 1, 1, 0, 1, 0, 1, 0, 1, 0, 1, 0, 1, 0, 0, 0, 1,\n",
       "       1, 1, 1, 0, 1, 0, 0, 0, 0, 1, 0, 1, 1, 1, 1, 0, 0, 0, 0, 0, 1, 0,\n",
       "       1, 0, 0, 0, 1, 1, 1, 1, 1, 0, 0, 0, 1, 1, 0, 1, 0, 0, 0, 0, 1, 1,\n",
       "       0, 1, 1, 0, 1, 0, 0, 1, 0, 1, 0, 1, 1, 0, 1, 1, 0, 0, 0, 0, 0, 0,\n",
       "       0, 0, 0, 0, 0, 0, 0, 1, 1, 0, 1, 0, 1, 0, 0, 1, 0, 1, 1, 1, 0, 0,\n",
       "       1, 0, 0, 1, 0, 0, 1, 1, 1, 0, 0, 1, 0, 1, 1, 1, 1, 1, 0, 1, 0, 1,\n",
       "       0, 1, 0, 1, 0, 1, 0, 1, 1, 0, 0, 1, 0, 0, 0, 0, 0, 1, 1, 1, 1, 1,\n",
       "       0, 1, 0, 1, 0, 1, 1, 1, 1, 1, 0, 1, 0, 1, 0, 1, 0, 1, 1, 0, 1, 1,\n",
       "       0, 0, 0, 1, 0, 1, 0, 1, 1, 1, 1, 0, 1, 0, 0, 1, 1, 0, 0, 1, 0, 0,\n",
       "       1, 0, 1, 1, 0, 1, 0, 0, 1, 1, 1, 1, 0, 1, 1, 0, 0, 1, 0, 0, 0, 0,\n",
       "       0, 0, 0, 1, 1, 1, 1, 0, 0, 1, 1, 0, 0, 1, 0, 0, 0, 0, 1, 0, 1, 1,\n",
       "       1, 0, 1, 0, 1, 1, 1, 0, 0, 1, 0, 1, 1, 0, 0, 1, 0, 1, 0, 0, 0, 1,\n",
       "       0, 0, 0, 0, 1, 0, 0, 1, 0, 1, 1, 0, 0, 1, 0, 0, 1, 0, 0, 1, 0, 1,\n",
       "       1, 0, 1, 0, 1, 0, 0, 1, 0, 1, 1, 1, 1, 0, 1, 1, 1, 1, 1, 1, 0, 1,\n",
       "       0, 1, 0, 1, 1, 0, 1, 1, 0, 0, 0, 0, 1, 0, 1, 0, 1, 0, 0, 0, 1, 0,\n",
       "       1, 0, 1, 1, 0, 1, 1, 0, 0, 0, 0, 1, 0, 0, 1, 0, 0, 1, 0, 0, 1, 0,\n",
       "       0, 1, 1, 0, 0, 1, 1, 0, 0, 1, 1, 0, 0, 1, 0, 0, 1, 1, 0, 0, 1, 1,\n",
       "       1, 1, 1, 1, 0, 1, 1, 0, 0, 1, 0, 0, 0, 1, 0, 1, 0, 0, 0, 1, 1, 1,\n",
       "       1, 1, 0, 1, 0, 0, 0, 0, 0, 1, 1, 1, 1, 1, 1, 1, 0, 0, 0, 1, 1, 0,\n",
       "       1, 0, 1, 1, 0, 1, 1, 0, 0, 1, 0, 1, 1, 1, 1, 1, 1, 0, 0, 0, 0, 0,\n",
       "       1, 0, 1, 1, 1, 1, 1, 1, 0, 1, 0, 1, 0, 0, 1, 1, 1, 0, 1, 0, 0, 0,\n",
       "       0, 0, 1, 1, 1, 0, 1, 0, 1, 1, 0, 1, 0, 1, 1, 1, 1, 1, 0, 1, 1, 1],\n",
       "      dtype=int64)"
      ]
     },
     "execution_count": 73,
     "metadata": {},
     "output_type": "execute_result"
    }
   ],
   "source": [
    "predicted"
   ]
  },
  {
   "cell_type": "code",
   "execution_count": 74,
   "metadata": {},
   "outputs": [
    {
     "data": {
      "text/html": [
       "<div>\n",
       "<style scoped>\n",
       "    .dataframe tbody tr th:only-of-type {\n",
       "        vertical-align: middle;\n",
       "    }\n",
       "\n",
       "    .dataframe tbody tr th {\n",
       "        vertical-align: top;\n",
       "    }\n",
       "\n",
       "    .dataframe thead th {\n",
       "        text-align: right;\n",
       "    }\n",
       "</style>\n",
       "<table border=\"1\" class=\"dataframe\">\n",
       "  <thead>\n",
       "    <tr style=\"text-align: right;\">\n",
       "      <th></th>\n",
       "      <th>x0</th>\n",
       "      <th>x1</th>\n",
       "    </tr>\n",
       "  </thead>\n",
       "  <tbody>\n",
       "    <tr>\n",
       "      <th>1860</th>\n",
       "      <td>-6.461302</td>\n",
       "      <td>5.813068</td>\n",
       "    </tr>\n",
       "    <tr>\n",
       "      <th>353</th>\n",
       "      <td>5.812205</td>\n",
       "      <td>8.308864</td>\n",
       "    </tr>\n",
       "    <tr>\n",
       "      <th>1333</th>\n",
       "      <td>10.816277</td>\n",
       "      <td>10.104235</td>\n",
       "    </tr>\n",
       "    <tr>\n",
       "      <th>905</th>\n",
       "      <td>1.281137</td>\n",
       "      <td>-12.959040</td>\n",
       "    </tr>\n",
       "    <tr>\n",
       "      <th>1289</th>\n",
       "      <td>10.884335</td>\n",
       "      <td>13.481002</td>\n",
       "    </tr>\n",
       "    <tr>\n",
       "      <th>1273</th>\n",
       "      <td>10.822944</td>\n",
       "      <td>9.307204</td>\n",
       "    </tr>\n",
       "    <tr>\n",
       "      <th>938</th>\n",
       "      <td>-2.450892</td>\n",
       "      <td>-0.485425</td>\n",
       "    </tr>\n",
       "    <tr>\n",
       "      <th>1731</th>\n",
       "      <td>7.055649</td>\n",
       "      <td>6.974902</td>\n",
       "    </tr>\n",
       "    <tr>\n",
       "      <th>65</th>\n",
       "      <td>3.686819</td>\n",
       "      <td>-6.611744</td>\n",
       "    </tr>\n",
       "    <tr>\n",
       "      <th>1323</th>\n",
       "      <td>-1.177529</td>\n",
       "      <td>-9.649272</td>\n",
       "    </tr>\n",
       "    <tr>\n",
       "      <th>56</th>\n",
       "      <td>8.817340</td>\n",
       "      <td>11.520609</td>\n",
       "    </tr>\n",
       "    <tr>\n",
       "      <th>1292</th>\n",
       "      <td>8.359117</td>\n",
       "      <td>10.943478</td>\n",
       "    </tr>\n",
       "    <tr>\n",
       "      <th>1118</th>\n",
       "      <td>-3.806312</td>\n",
       "      <td>-3.885470</td>\n",
       "    </tr>\n",
       "    <tr>\n",
       "      <th>584</th>\n",
       "      <td>-0.839752</td>\n",
       "      <td>8.761249</td>\n",
       "    </tr>\n",
       "    <tr>\n",
       "      <th>374</th>\n",
       "      <td>-7.018153</td>\n",
       "      <td>10.631133</td>\n",
       "    </tr>\n",
       "    <tr>\n",
       "      <th>275</th>\n",
       "      <td>-4.873818</td>\n",
       "      <td>-0.300091</td>\n",
       "    </tr>\n",
       "    <tr>\n",
       "      <th>746</th>\n",
       "      <td>11.529567</td>\n",
       "      <td>8.829814</td>\n",
       "    </tr>\n",
       "    <tr>\n",
       "      <th>128</th>\n",
       "      <td>2.450629</td>\n",
       "      <td>4.908210</td>\n",
       "    </tr>\n",
       "    <tr>\n",
       "      <th>1646</th>\n",
       "      <td>2.388336</td>\n",
       "      <td>5.612162</td>\n",
       "    </tr>\n",
       "    <tr>\n",
       "      <th>1852</th>\n",
       "      <td>13.717109</td>\n",
       "      <td>10.600208</td>\n",
       "    </tr>\n",
       "    <tr>\n",
       "      <th>674</th>\n",
       "      <td>5.759132</td>\n",
       "      <td>4.035838</td>\n",
       "    </tr>\n",
       "    <tr>\n",
       "      <th>1664</th>\n",
       "      <td>0.936620</td>\n",
       "      <td>-3.310635</td>\n",
       "    </tr>\n",
       "    <tr>\n",
       "      <th>1981</th>\n",
       "      <td>-6.778501</td>\n",
       "      <td>0.430415</td>\n",
       "    </tr>\n",
       "    <tr>\n",
       "      <th>1083</th>\n",
       "      <td>-7.793189</td>\n",
       "      <td>-3.885751</td>\n",
       "    </tr>\n",
       "    <tr>\n",
       "      <th>1922</th>\n",
       "      <td>9.611639</td>\n",
       "      <td>10.345196</td>\n",
       "    </tr>\n",
       "    <tr>\n",
       "      <th>99</th>\n",
       "      <td>3.415698</td>\n",
       "      <td>1.872205</td>\n",
       "    </tr>\n",
       "    <tr>\n",
       "      <th>1179</th>\n",
       "      <td>2.194614</td>\n",
       "      <td>-8.146063</td>\n",
       "    </tr>\n",
       "    <tr>\n",
       "      <th>964</th>\n",
       "      <td>12.581386</td>\n",
       "      <td>10.796212</td>\n",
       "    </tr>\n",
       "    <tr>\n",
       "      <th>792</th>\n",
       "      <td>-0.886166</td>\n",
       "      <td>3.174456</td>\n",
       "    </tr>\n",
       "    <tr>\n",
       "      <th>29</th>\n",
       "      <td>7.728861</td>\n",
       "      <td>7.257884</td>\n",
       "    </tr>\n",
       "    <tr>\n",
       "      <th>...</th>\n",
       "      <td>...</td>\n",
       "      <td>...</td>\n",
       "    </tr>\n",
       "    <tr>\n",
       "      <th>277</th>\n",
       "      <td>9.264721</td>\n",
       "      <td>13.322203</td>\n",
       "    </tr>\n",
       "    <tr>\n",
       "      <th>1846</th>\n",
       "      <td>6.650966</td>\n",
       "      <td>12.216440</td>\n",
       "    </tr>\n",
       "    <tr>\n",
       "      <th>358</th>\n",
       "      <td>9.426751</td>\n",
       "      <td>12.702349</td>\n",
       "    </tr>\n",
       "    <tr>\n",
       "      <th>1110</th>\n",
       "      <td>-1.676839</td>\n",
       "      <td>-10.451666</td>\n",
       "    </tr>\n",
       "    <tr>\n",
       "      <th>236</th>\n",
       "      <td>7.381611</td>\n",
       "      <td>5.845223</td>\n",
       "    </tr>\n",
       "    <tr>\n",
       "      <th>551</th>\n",
       "      <td>-1.039288</td>\n",
       "      <td>-4.813918</td>\n",
       "    </tr>\n",
       "    <tr>\n",
       "      <th>1867</th>\n",
       "      <td>0.913006</td>\n",
       "      <td>-10.775458</td>\n",
       "    </tr>\n",
       "    <tr>\n",
       "      <th>1812</th>\n",
       "      <td>0.187914</td>\n",
       "      <td>6.505672</td>\n",
       "    </tr>\n",
       "    <tr>\n",
       "      <th>208</th>\n",
       "      <td>2.260071</td>\n",
       "      <td>-0.760746</td>\n",
       "    </tr>\n",
       "    <tr>\n",
       "      <th>1386</th>\n",
       "      <td>-4.395511</td>\n",
       "      <td>-10.021378</td>\n",
       "    </tr>\n",
       "    <tr>\n",
       "      <th>1560</th>\n",
       "      <td>8.917686</td>\n",
       "      <td>7.442075</td>\n",
       "    </tr>\n",
       "    <tr>\n",
       "      <th>58</th>\n",
       "      <td>7.585243</td>\n",
       "      <td>6.800231</td>\n",
       "    </tr>\n",
       "    <tr>\n",
       "      <th>631</th>\n",
       "      <td>13.186772</td>\n",
       "      <td>11.295251</td>\n",
       "    </tr>\n",
       "    <tr>\n",
       "      <th>1961</th>\n",
       "      <td>-3.739854</td>\n",
       "      <td>6.289008</td>\n",
       "    </tr>\n",
       "    <tr>\n",
       "      <th>1859</th>\n",
       "      <td>12.595634</td>\n",
       "      <td>10.335331</td>\n",
       "    </tr>\n",
       "    <tr>\n",
       "      <th>1816</th>\n",
       "      <td>3.973922</td>\n",
       "      <td>4.710451</td>\n",
       "    </tr>\n",
       "    <tr>\n",
       "      <th>363</th>\n",
       "      <td>11.040167</td>\n",
       "      <td>5.037375</td>\n",
       "    </tr>\n",
       "    <tr>\n",
       "      <th>505</th>\n",
       "      <td>9.042028</td>\n",
       "      <td>12.866636</td>\n",
       "    </tr>\n",
       "    <tr>\n",
       "      <th>1165</th>\n",
       "      <td>6.227854</td>\n",
       "      <td>5.030099</td>\n",
       "    </tr>\n",
       "    <tr>\n",
       "      <th>1121</th>\n",
       "      <td>15.558807</td>\n",
       "      <td>8.038959</td>\n",
       "    </tr>\n",
       "    <tr>\n",
       "      <th>1629</th>\n",
       "      <td>0.646261</td>\n",
       "      <td>-7.760923</td>\n",
       "    </tr>\n",
       "    <tr>\n",
       "      <th>1216</th>\n",
       "      <td>11.044282</td>\n",
       "      <td>8.860551</td>\n",
       "    </tr>\n",
       "    <tr>\n",
       "      <th>1151</th>\n",
       "      <td>12.493965</td>\n",
       "      <td>8.080583</td>\n",
       "    </tr>\n",
       "    <tr>\n",
       "      <th>1124</th>\n",
       "      <td>9.790464</td>\n",
       "      <td>10.699650</td>\n",
       "    </tr>\n",
       "    <tr>\n",
       "      <th>1594</th>\n",
       "      <td>12.224254</td>\n",
       "      <td>10.555627</td>\n",
       "    </tr>\n",
       "    <tr>\n",
       "      <th>118</th>\n",
       "      <td>10.182572</td>\n",
       "      <td>9.056571</td>\n",
       "    </tr>\n",
       "    <tr>\n",
       "      <th>1249</th>\n",
       "      <td>-0.569341</td>\n",
       "      <td>-8.319192</td>\n",
       "    </tr>\n",
       "    <tr>\n",
       "      <th>1993</th>\n",
       "      <td>7.165326</td>\n",
       "      <td>9.501353</td>\n",
       "    </tr>\n",
       "    <tr>\n",
       "      <th>522</th>\n",
       "      <td>9.544727</td>\n",
       "      <td>13.009425</td>\n",
       "    </tr>\n",
       "    <tr>\n",
       "      <th>513</th>\n",
       "      <td>8.272434</td>\n",
       "      <td>11.088751</td>\n",
       "    </tr>\n",
       "  </tbody>\n",
       "</table>\n",
       "<p>660 rows × 2 columns</p>\n",
       "</div>"
      ],
      "text/plain": [
       "             x0         x1\n",
       "1860  -6.461302   5.813068\n",
       "353    5.812205   8.308864\n",
       "1333  10.816277  10.104235\n",
       "905    1.281137 -12.959040\n",
       "1289  10.884335  13.481002\n",
       "1273  10.822944   9.307204\n",
       "938   -2.450892  -0.485425\n",
       "1731   7.055649   6.974902\n",
       "65     3.686819  -6.611744\n",
       "1323  -1.177529  -9.649272\n",
       "56     8.817340  11.520609\n",
       "1292   8.359117  10.943478\n",
       "1118  -3.806312  -3.885470\n",
       "584   -0.839752   8.761249\n",
       "374   -7.018153  10.631133\n",
       "275   -4.873818  -0.300091\n",
       "746   11.529567   8.829814\n",
       "128    2.450629   4.908210\n",
       "1646   2.388336   5.612162\n",
       "1852  13.717109  10.600208\n",
       "674    5.759132   4.035838\n",
       "1664   0.936620  -3.310635\n",
       "1981  -6.778501   0.430415\n",
       "1083  -7.793189  -3.885751\n",
       "1922   9.611639  10.345196\n",
       "99     3.415698   1.872205\n",
       "1179   2.194614  -8.146063\n",
       "964   12.581386  10.796212\n",
       "792   -0.886166   3.174456\n",
       "29     7.728861   7.257884\n",
       "...         ...        ...\n",
       "277    9.264721  13.322203\n",
       "1846   6.650966  12.216440\n",
       "358    9.426751  12.702349\n",
       "1110  -1.676839 -10.451666\n",
       "236    7.381611   5.845223\n",
       "551   -1.039288  -4.813918\n",
       "1867   0.913006 -10.775458\n",
       "1812   0.187914   6.505672\n",
       "208    2.260071  -0.760746\n",
       "1386  -4.395511 -10.021378\n",
       "1560   8.917686   7.442075\n",
       "58     7.585243   6.800231\n",
       "631   13.186772  11.295251\n",
       "1961  -3.739854   6.289008\n",
       "1859  12.595634  10.335331\n",
       "1816   3.973922   4.710451\n",
       "363   11.040167   5.037375\n",
       "505    9.042028  12.866636\n",
       "1165   6.227854   5.030099\n",
       "1121  15.558807   8.038959\n",
       "1629   0.646261  -7.760923\n",
       "1216  11.044282   8.860551\n",
       "1151  12.493965   8.080583\n",
       "1124   9.790464  10.699650\n",
       "1594  12.224254  10.555627\n",
       "118   10.182572   9.056571\n",
       "1249  -0.569341  -8.319192\n",
       "1993   7.165326   9.501353\n",
       "522    9.544727  13.009425\n",
       "513    8.272434  11.088751\n",
       "\n",
       "[660 rows x 2 columns]"
      ]
     },
     "execution_count": 74,
     "metadata": {},
     "output_type": "execute_result"
    }
   ],
   "source": []
  },
  {
   "cell_type": "markdown",
   "metadata": {},
   "source": [
    "It can be noticed that on suntetic data all estimation of c is nearly equal."
   ]
  },
  {
   "cell_type": "code",
   "execution_count": 88,
   "metadata": {},
   "outputs": [
    {
     "data": {
      "image/png": "[encoded data removed]",
      "text/plain": [
       "<Figure size 432x288 with 1 Axes>"
      ]
     },
     "metadata": {
      "needs_background": "light"
     },
     "output_type": "display_data"
    }
   ],
   "source": [
    "\n",
    "plt.scatter(X_test.iloc[list(np.where(predicted==1))[0]][\"x0\"], X_test.iloc[list(np.where(predicted==1))[0]][\"x1\"], label=\"samples 1\")\n",
    "plt.scatter(X_test.iloc[list(np.where(predicted==0))[0]][\"x0\"], X_test.iloc[list(np.where(predicted==0))[0]][\"x1\"], label=\"samples 0\")\n",
    "plt.legend()\n",
    "plt.show()"
   ]
  },
  {
   "cell_type": "code",
   "execution_count": null,
   "metadata": {},
   "outputs": [],
   "source": []
  }
 ],
 "metadata": {
  "kernelspec": {
   "display_name": "Python 3",
   "language": "python",
   "name": "python3"
  },
  "language_info": {
   "codemirror_mode": {
    "name": "ipython",
    "version": 3
   },
   "file_extension": ".py",
   "mimetype": "text/x-python",
   "name": "python",
   "nbconvert_exporter": "python",
   "pygments_lexer": "ipython3",
   "version": "3.7.3"
  }
 },
 "nbformat": 4,
 "nbformat_minor": 2
}
