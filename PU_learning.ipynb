{
 "cells": [
  {
   "cell_type": "markdown",
   "metadata": {},
   "source": [
    "## PU learning"
   ]
  },
  {
   "cell_type": "code",
   "execution_count": 1,
   "metadata": {},
   "outputs": [],
   "source": [
    "from scipy import signal\n",
    "from scipy import stats\n",
    "from matplotlib import pyplot as plt\n",
    "import numpy as np \n",
    "import pandas as pd"
   ]
  },
  {
   "cell_type": "code",
   "execution_count": 2,
   "metadata": {},
   "outputs": [],
   "source": [
    "import sklearn as sk\n",
    "from sklearn.ensemble import RandomForestClassifier\n",
    "from sklearn.linear_model import LogisticRegression\n",
    "from sklearn.model_selection import train_test_split\n",
    "from sklearn.metrics import accuracy_score, f1_score, roc_auc_score\n",
    "from sklearn import metrics"
   ]
  },
  {
   "cell_type": "markdown",
   "metadata": {},
   "source": [
    "### Data Creating"
   ]
  },
  {
   "cell_type": "markdown",
   "metadata": {},
   "source": [
    "Let's create some syntetic data based on gaussian windows."
   ]
  },
  {
   "cell_type": "code",
   "execution_count": 3,
   "metadata": {
    "scrolled": true
   },
   "outputs": [
    {
     "data": {
      "image/png": "[encoded data removed]",
      "text/plain": [
       "<Figure size 432x288 with 1 Axes>"
      ]
     },
     "metadata": {
      "needs_background": "light"
     },
     "output_type": "display_data"
    },
    {
     "data": {
      "image/png": "[encoded data removed]",
      "text/plain": [
       "<Figure size 432x288 with 1 Axes>"
      ]
     },
     "metadata": {
      "needs_background": "light"
     },
     "output_type": "display_data"
    }
   ],
   "source": [
    "gaussian_arr1 = signal.gaussian(3000, std=200)\n",
    "plt.plot(gaussian_arr1)\n",
    "plt.title(\"samples 1\")\n",
    "plt.show()\n",
    "gaussian_arr0 = signal.gaussian(6000, std=3000) \n",
    "plt.plot(gaussian_arr0)\n",
    "plt.title(\"samples 0\")\n",
    "plt.show()"
   ]
  },
  {
   "cell_type": "markdown",
   "metadata": {},
   "source": [
    "Mixing the datas to dataframe with correct labels"
   ]
  },
  {
   "cell_type": "code",
   "execution_count": 4,
   "metadata": {},
   "outputs": [],
   "source": [
    "df = pd.DataFrame(data=np.vstack((np.stack(\n",
    "    (gaussian_arr1, [1]*len(gaussian_arr1)), axis=-1),np.stack((gaussian_arr0, [0]*len(gaussian_arr0)), axis=-1))), \n",
    "    columns=[\"x\", \"y\"]) #1 - for gaussian 0 - for laplaccian"
   ]
  },
  {
   "cell_type": "markdown",
   "metadata": {},
   "source": [
    "Suffling whole data."
   ]
  },
  {
   "cell_type": "code",
   "execution_count": 5,
   "metadata": {},
   "outputs": [],
   "source": [
    "df = df.sample(frac=1).reset_index(drop=True)"
   ]
  },
  {
   "cell_type": "code",
   "execution_count": 6,
   "metadata": {},
   "outputs": [
    {
     "data": {
      "text/html": [
       "<div>\n",
       "<style scoped>\n",
       "    .dataframe tbody tr th:only-of-type {\n",
       "        vertical-align: middle;\n",
       "    }\n",
       "\n",
       "    .dataframe tbody tr th {\n",
       "        vertical-align: top;\n",
       "    }\n",
       "\n",
       "    .dataframe thead th {\n",
       "        text-align: right;\n",
       "    }\n",
       "</style>\n",
       "<table border=\"1\" class=\"dataframe\">\n",
       "  <thead>\n",
       "    <tr style=\"text-align: right;\">\n",
       "      <th></th>\n",
       "      <th>x</th>\n",
       "      <th>y</th>\n",
       "    </tr>\n",
       "  </thead>\n",
       "  <tbody>\n",
       "    <tr>\n",
       "      <th>0</th>\n",
       "      <td>0.778584</td>\n",
       "      <td>0.0</td>\n",
       "    </tr>\n",
       "    <tr>\n",
       "      <th>1</th>\n",
       "      <td>0.727601</td>\n",
       "      <td>0.0</td>\n",
       "    </tr>\n",
       "    <tr>\n",
       "      <th>2</th>\n",
       "      <td>0.955278</td>\n",
       "      <td>1.0</td>\n",
       "    </tr>\n",
       "    <tr>\n",
       "      <th>3</th>\n",
       "      <td>0.058534</td>\n",
       "      <td>1.0</td>\n",
       "    </tr>\n",
       "    <tr>\n",
       "      <th>4</th>\n",
       "      <td>0.000004</td>\n",
       "      <td>1.0</td>\n",
       "    </tr>\n",
       "  </tbody>\n",
       "</table>\n",
       "</div>"
      ],
      "text/plain": [
       "          x    y\n",
       "0  0.778584  0.0\n",
       "1  0.727601  0.0\n",
       "2  0.955278  1.0\n",
       "3  0.058534  1.0\n",
       "4  0.000004  1.0"
      ]
     },
     "execution_count": 6,
     "metadata": {},
     "output_type": "execute_result"
    }
   ],
   "source": [
    "df.head()"
   ]
  },
  {
   "cell_type": "markdown",
   "metadata": {},
   "source": [
    "### Normal classifier, normal data example"
   ]
  },
  {
   "cell_type": "code",
   "execution_count": 7,
   "metadata": {},
   "outputs": [],
   "source": [
    "X_train, X_test, y_train, y_test = train_test_split(df[\"x\"], df[\"y\"], test_size=0.33, random_state=42)"
   ]
  },
  {
   "cell_type": "markdown",
   "metadata": {},
   "source": [
    "As an exaple of classifier i would use Random Forest classifier from sklearn lib, course it one of the mentioned classifiers in article and can be easily replaced with any other from sklearn with no code changes."
   ]
  },
  {
   "cell_type": "code",
   "execution_count": 8,
   "metadata": {},
   "outputs": [],
   "source": [
    "classifier = RandomForestClassifier\n",
    "params = {\"n_estimators\":100, \"max_depth\":2, \"random_state\":0}\n",
    "# calssifier = LogisticRegression\n",
    "# params = {\"solver\":'lbfgs'}"
   ]
  },
  {
   "cell_type": "code",
   "execution_count": 9,
   "metadata": {},
   "outputs": [
    {
     "data": {
      "text/plain": [
       "RandomForestClassifier(bootstrap=True, class_weight=None, criterion='gini',\n",
       "                       max_depth=2, max_features='auto', max_leaf_nodes=None,\n",
       "                       min_impurity_decrease=0.0, min_impurity_split=None,\n",
       "                       min_samples_leaf=1, min_samples_split=2,\n",
       "                       min_weight_fraction_leaf=0.0, n_estimators=100,\n",
       "                       n_jobs=None, oob_score=False, random_state=0, verbose=0,\n",
       "                       warm_start=False)"
      ]
     },
     "execution_count": 9,
     "metadata": {},
     "output_type": "execute_result"
    }
   ],
   "source": [
    "CL_ex = classifier(**params)\n",
    "CL_ex.fit(X_train.values.reshape(-1, 1), y_train)"
   ]
  },
  {
   "cell_type": "code",
   "execution_count": 10,
   "metadata": {},
   "outputs": [
    {
     "name": "stdout",
     "output_type": "stream",
     "text": [
      "acc is 0.9515, f1 is 0.9238, roc is 0.9292\n"
     ]
    }
   ],
   "source": [
    "y_pred = CL_ex.predict(X_test.values.reshape(-1, 1))\n",
    "print(f\"acc is {accuracy_score(y_test, y_pred):.4f}, \"\n",
    "      f\"f1 is {f1_score(y_test, y_pred):.4f}, \"\n",
    "      f\"roc is {roc_auc_score(y_test, y_pred):.4f}\")"
   ]
  },
  {
   "cell_type": "markdown",
   "metadata": {},
   "source": [
    "Let's make some of the data undefined."
   ]
  },
  {
   "cell_type": "code",
   "execution_count": 11,
   "metadata": {},
   "outputs": [],
   "source": [
    "df[\"s\"] = df[\"y\"] * np.random.randint(0,2,len(df))"
   ]
  },
  {
   "cell_type": "code",
   "execution_count": 12,
   "metadata": {},
   "outputs": [
    {
     "data": {
      "text/html": [
       "<div>\n",
       "<style scoped>\n",
       "    .dataframe tbody tr th:only-of-type {\n",
       "        vertical-align: middle;\n",
       "    }\n",
       "\n",
       "    .dataframe tbody tr th {\n",
       "        vertical-align: top;\n",
       "    }\n",
       "\n",
       "    .dataframe thead th {\n",
       "        text-align: right;\n",
       "    }\n",
       "</style>\n",
       "<table border=\"1\" class=\"dataframe\">\n",
       "  <thead>\n",
       "    <tr style=\"text-align: right;\">\n",
       "      <th></th>\n",
       "      <th>x</th>\n",
       "      <th>y</th>\n",
       "      <th>s</th>\n",
       "    </tr>\n",
       "  </thead>\n",
       "  <tbody>\n",
       "    <tr>\n",
       "      <th>0</th>\n",
       "      <td>0.778584</td>\n",
       "      <td>0.0</td>\n",
       "      <td>0.0</td>\n",
       "    </tr>\n",
       "    <tr>\n",
       "      <th>1</th>\n",
       "      <td>0.727601</td>\n",
       "      <td>0.0</td>\n",
       "      <td>0.0</td>\n",
       "    </tr>\n",
       "    <tr>\n",
       "      <th>2</th>\n",
       "      <td>0.955278</td>\n",
       "      <td>1.0</td>\n",
       "      <td>1.0</td>\n",
       "    </tr>\n",
       "    <tr>\n",
       "      <th>3</th>\n",
       "      <td>0.058534</td>\n",
       "      <td>1.0</td>\n",
       "      <td>1.0</td>\n",
       "    </tr>\n",
       "    <tr>\n",
       "      <th>4</th>\n",
       "      <td>0.000004</td>\n",
       "      <td>1.0</td>\n",
       "      <td>0.0</td>\n",
       "    </tr>\n",
       "  </tbody>\n",
       "</table>\n",
       "</div>"
      ],
      "text/plain": [
       "          x    y    s\n",
       "0  0.778584  0.0  0.0\n",
       "1  0.727601  0.0  0.0\n",
       "2  0.955278  1.0  1.0\n",
       "3  0.058534  1.0  1.0\n",
       "4  0.000004  1.0  0.0"
      ]
     },
     "execution_count": 12,
     "metadata": {},
     "output_type": "execute_result"
    }
   ],
   "source": [
    "df.head()"
   ]
  },
  {
   "cell_type": "code",
   "execution_count": 13,
   "metadata": {},
   "outputs": [],
   "source": [
    "X_train, X_test, y_train, y_test = train_test_split(df[\"x\"], df[[\"s\",\"y\"]], test_size=0.33, random_state=42)"
   ]
  },
  {
   "cell_type": "code",
   "execution_count": 14,
   "metadata": {},
   "outputs": [
    {
     "data": {
      "text/plain": [
       "RandomForestClassifier(bootstrap=True, class_weight=None, criterion='gini',\n",
       "                       max_depth=2, max_features='auto', max_leaf_nodes=None,\n",
       "                       min_impurity_decrease=0.0, min_impurity_split=None,\n",
       "                       min_samples_leaf=1, min_samples_split=2,\n",
       "                       min_weight_fraction_leaf=0.0, n_estimators=100,\n",
       "                       n_jobs=None, oob_score=False, random_state=0, verbose=0,\n",
       "                       warm_start=False)"
      ]
     },
     "execution_count": 14,
     "metadata": {},
     "output_type": "execute_result"
    }
   ],
   "source": [
    "CL_ex = classifier(**params)\n",
    "CL_ex.fit(X_train.values.reshape(-1, 1), y_train[\"s\"])"
   ]
  },
  {
   "cell_type": "markdown",
   "metadata": {},
   "source": [
    "Ordinary classifier works bad with undefined data - it can't learn unreal dependense (will the value be def or undef) and can't learn real dependense - undefined data mixes everething two much."
   ]
  },
  {
   "cell_type": "code",
   "execution_count": 15,
   "metadata": {},
   "outputs": [
    {
     "name": "stdout",
     "output_type": "stream",
     "text": [
      "Score for s is 0.8347, course unreal dependense is hard to learn\n",
      "Score for y is 0.7680 course real dependense is hard to learn from unreal\n",
      "Classification report for classifier RandomForestClassifier(bootstrap=True, class_weight=None, criterion='gini',\n",
      "                       max_depth=2, max_features='auto', max_leaf_nodes=None,\n",
      "                       min_impurity_decrease=0.0, min_impurity_split=None,\n",
      "                       min_samples_leaf=1, min_samples_split=2,\n",
      "                       min_weight_fraction_leaf=0.0, n_estimators=100,\n",
      "                       n_jobs=None, oob_score=False, random_state=0, verbose=0,\n",
      "                       warm_start=False):\n",
      "              precision    recall  f1-score   support\n",
      "\n",
      "         0.0       0.74      1.00      0.85      1953\n",
      "         1.0       1.00      0.32      0.49      1017\n",
      "\n",
      "    accuracy                           0.77      2970\n",
      "   macro avg       0.87      0.66      0.67      2970\n",
      "weighted avg       0.83      0.77      0.73      2970\n",
      "\n",
      "\n",
      "Confusion matrix:\n",
      "[[1953    0]\n",
      " [ 689  328]]\n"
     ]
    }
   ],
   "source": [
    "CL_ex.predict(X_test.values.reshape(-1, 1))\n",
    "print(f\"Score for s is {CL_ex.score(X_test.values.reshape(-1, 1),y_test['s']):.4f}, course unreal dependense is hard to learn\")\n",
    "print(f\"Score for y is {CL_ex.score(X_test.values.reshape(-1, 1),y_test['y']):.4f} course real dependense is hard to learn from unreal\")\n",
    "expected = y_test[\"y\"]\n",
    "predicted = CL_ex.predict(X_test.values.reshape(-1, 1))\n",
    "\n",
    "print(\"Classification report for classifier %s:\\n%s\\n\"\n",
    "      % (CL_ex, metrics.classification_report(expected, predicted)))\n",
    "print(\"Confusion matrix:\\n%s\" % metrics.confusion_matrix(expected, predicted))"
   ]
  },
  {
   "cell_type": "markdown",
   "metadata": {},
   "source": [
    "Let's build classifier, that would cope with defined-undefined data."
   ]
  },
  {
   "cell_type": "markdown",
   "metadata": {},
   "source": [
    "### Divide data"
   ]
  },
  {
   "cell_type": "code",
   "execution_count": 16,
   "metadata": {},
   "outputs": [],
   "source": [
    "X_train, X_test, y_train, y_test = train_test_split(df[\"x\"], df[[\"s\", 'y']], test_size=0.33, random_state=42)\n",
    "X_train, X_val, y_train, y_val = train_test_split(X_train, y_train, test_size=0.33, random_state=42)"
   ]
  },
  {
   "cell_type": "markdown",
   "metadata": {},
   "source": [
    "### Fit g classificator"
   ]
  },
  {
   "cell_type": "code",
   "execution_count": 17,
   "metadata": {},
   "outputs": [
    {
     "data": {
      "text/plain": [
       "RandomForestClassifier(bootstrap=True, class_weight=None, criterion='gini',\n",
       "                       max_depth=2, max_features='auto', max_leaf_nodes=None,\n",
       "                       min_impurity_decrease=0.0, min_impurity_split=None,\n",
       "                       min_samples_leaf=1, min_samples_split=2,\n",
       "                       min_weight_fraction_leaf=0.0, n_estimators=100,\n",
       "                       n_jobs=None, oob_score=False, random_state=0, verbose=0,\n",
       "                       warm_start=False)"
      ]
     },
     "execution_count": 17,
     "metadata": {},
     "output_type": "execute_result"
    }
   ],
   "source": [
    "CL_g = classifier(**params)\n",
    "CL_g.fit(X_train.values.reshape(-1, 1), y_train[\"s\"])"
   ]
  },
  {
   "cell_type": "markdown",
   "metadata": {},
   "source": [
    "### Estimating c"
   ]
  },
  {
   "cell_type": "markdown",
   "metadata": {},
   "source": [
    "As written in article c is probability that if data is type 1 - it will be defined data that can be estimated via classifier g, builded on Def/Undef data"
   ]
  },
  {
   "cell_type": "markdown",
   "metadata": {},
   "source": [
    "There are three ways to estimate c, described in article."
   ]
  },
  {
   "cell_type": "code",
   "execution_count": 18,
   "metadata": {},
   "outputs": [
    {
     "data": {
      "text/plain": [
       "0.42972074896177836"
      ]
     },
     "execution_count": 18,
     "metadata": {},
     "output_type": "execute_result"
    }
   ],
   "source": [
    "X_val_p = X_val.loc[X_val.index[y_val[\"s\"] == 1]]\n",
    "d_p = CL_g.predict_proba(X_val_p.values.reshape(-1, 1))[:,1]\n",
    "e1 = d_p.sum()/len(X_val_p)\n",
    "e1"
   ]
  },
  {
   "cell_type": "code",
   "execution_count": 19,
   "metadata": {},
   "outputs": [
    {
     "data": {
      "text/plain": [
       "0.4531545827111744"
      ]
     },
     "execution_count": 19,
     "metadata": {},
     "output_type": "execute_result"
    }
   ],
   "source": [
    "d_v = CL_g.predict_proba(X_val.values.reshape(-1, 1))[:,1]\n",
    "e2 = d_p.sum()/d_v.sum()\n",
    "e2"
   ]
  },
  {
   "cell_type": "code",
   "execution_count": 20,
   "metadata": {},
   "outputs": [
    {
     "data": {
      "text/plain": [
       "0.5962930238667754"
      ]
     },
     "execution_count": 20,
     "metadata": {},
     "output_type": "execute_result"
    }
   ],
   "source": [
    "e3 = d_v.max()\n",
    "e3"
   ]
  },
  {
   "cell_type": "markdown",
   "metadata": {},
   "source": [
    "### First way to create f classificator"
   ]
  },
  {
   "cell_type": "markdown",
   "metadata": {},
   "source": [
    "###### IT IS NOT THE PART OF ARTICLE\n",
    "While i was reading article, i had an idea that classifier could be easily improved with deviding result on c."
   ]
  },
  {
   "cell_type": "code",
   "execution_count": 21,
   "metadata": {},
   "outputs": [
    {
     "data": {
      "text/plain": [
       "RandomForestClassifier(bootstrap=True, class_weight=None, criterion='gini',\n",
       "                       max_depth=2, max_features='auto', max_leaf_nodes=None,\n",
       "                       min_impurity_decrease=0.0, min_impurity_split=None,\n",
       "                       min_samples_leaf=1, min_samples_split=2,\n",
       "                       min_weight_fraction_leaf=0.0, n_estimators=100,\n",
       "                       n_jobs=None, oob_score=False, random_state=0, verbose=0,\n",
       "                       warm_start=False)"
      ]
     },
     "execution_count": 21,
     "metadata": {},
     "output_type": "execute_result"
    }
   ],
   "source": [
    "CL_f = classifier(**params)\n",
    "CL_f.fit(X_train.values.reshape(-1, 1), y_train[\"s\"])"
   ]
  },
  {
   "cell_type": "code",
   "execution_count": 22,
   "metadata": {},
   "outputs": [
    {
     "data": {
      "text/plain": [
       "0.9508417508417508"
      ]
     },
     "execution_count": 22,
     "metadata": {},
     "output_type": "execute_result"
    }
   ],
   "source": [
    "c = e1 # e2 or e3\n",
    "y_pred = np.array(CL_f.predict_proba(X_test.values.reshape(-1,1))[:,1]/c > 0.5, dtype=int)\n",
    "accuracy_score(y_test[\"y\"],y_pred)"
   ]
  },
  {
   "cell_type": "markdown",
   "metadata": {},
   "source": [
    "### Second way to improve classifier f"
   ]
  },
  {
   "cell_type": "markdown",
   "metadata": {},
   "source": [
    "The way, that was used by the authors of article is to create weights of each sample build on g prediction for value and parametr c."
   ]
  },
  {
   "cell_type": "code",
   "execution_count": 23,
   "metadata": {},
   "outputs": [],
   "source": [
    "def create_new_train(e, X_train, y_train, CL):\n",
    "    X_train_new = pd.DataFrame(X_train.loc[y_train.index[y_train[\"s\"] == 1]])\n",
    "    X_train_new[\"w\"] = 1\n",
    "    y_train_new = pd.DataFrame([1]*len(X_train_new), columns=[\"s\"])\n",
    "    X_train_1 = pd.DataFrame(X_train.loc[y_train.index[y_train[\"s\"] == 0]])\n",
    "    g_x = CL.predict_proba(X_train_1[\"x\"].values.reshape(-1,1))[:,1]\n",
    "    X_train_1[\"w\"] = (1-e)/e * g_x/(1-g_x)\n",
    "    y_train_1 = pd.DataFrame([1]*len(X_train_1), columns=[\"s\"])\n",
    "    X_train_2 = pd.DataFrame(X_train.loc[y_train.index[y_train[\"s\"] == 0]])\n",
    "    g_x = CL.predict_proba(X_train_2[\"x\"].values.reshape(-1,1))[:,1]\n",
    "    X_train_2[\"w\"] = 1 - (1-e)/e * g_x/ (1-g_x)\n",
    "    y_train_2 = pd.DataFrame([0]*len(X_train_2), columns=[\"s\"])\n",
    "    X_train_new = X_train_new.append(X_train_1, ignore_index=True, sort=False)\n",
    "    X_train_new = X_train_new.append(X_train_2, ignore_index=True, sort=False)\n",
    "    y_train_new = y_train_new.append(y_train_1, ignore_index=True, sort=False)\n",
    "    y_train_new = y_train_new.append(y_train_2, ignore_index=True, sort=False)\n",
    "    return X_train_new, y_train_new"
   ]
  },
  {
   "cell_type": "markdown",
   "metadata": {},
   "source": [
    "#### e1"
   ]
  },
  {
   "cell_type": "code",
   "execution_count": 24,
   "metadata": {},
   "outputs": [
    {
     "name": "stdout",
     "output_type": "stream",
     "text": [
      "Classification report for classifier RandomForestClassifier(bootstrap=True, class_weight=None, criterion='gini',\n",
      "                       max_depth=2, max_features='auto', max_leaf_nodes=None,\n",
      "                       min_impurity_decrease=0.0, min_impurity_split=None,\n",
      "                       min_samples_leaf=1, min_samples_split=2,\n",
      "                       min_weight_fraction_leaf=0.0, n_estimators=100,\n",
      "                       n_jobs=None, oob_score=False, random_state=0, verbose=0,\n",
      "                       warm_start=False):\n",
      "              precision    recall  f1-score   support\n",
      "\n",
      "         0.0       0.93      1.00      0.96      1953\n",
      "         1.0       1.00      0.86      0.92      1017\n",
      "\n",
      "    accuracy                           0.95      2970\n",
      "   macro avg       0.97      0.93      0.94      2970\n",
      "weighted avg       0.95      0.95      0.95      2970\n",
      "\n",
      "\n",
      "Confusion matrix:\n",
      "[[1953    0]\n",
      " [ 146  871]]\n"
     ]
    }
   ],
   "source": [
    "CL_f = classifier(**params)\n",
    "X_train_new, y_train_new = create_new_train(e1, X_train, y_train, CL_g)\n",
    "CL_f.fit(X_train_new['x'].values.reshape(-1, 1), y_train_new[\"s\"], sample_weight=X_train_new['w'])\n",
    "y_pred = CL_f.predict(X_test.values.reshape(-1, 1))\n",
    "expected = y_test[\"y\"]\n",
    "predicted = CL_f.predict(X_test.values.reshape(-1,1))\n",
    "\n",
    "print(\"Classification report for classifier %s:\\n%s\\n\"\n",
    "      % (CL_f, metrics.classification_report(expected, predicted)))\n",
    "print(\"Confusion matrix:\\n%s\" % metrics.confusion_matrix(expected, predicted))"
   ]
  },
  {
   "cell_type": "markdown",
   "metadata": {},
   "source": [
    "#### e2"
   ]
  },
  {
   "cell_type": "code",
   "execution_count": 25,
   "metadata": {},
   "outputs": [
    {
     "name": "stdout",
     "output_type": "stream",
     "text": [
      "Classification report for classifier RandomForestClassifier(bootstrap=True, class_weight=None, criterion='gini',\n",
      "                       max_depth=2, max_features='auto', max_leaf_nodes=None,\n",
      "                       min_impurity_decrease=0.0, min_impurity_split=None,\n",
      "                       min_samples_leaf=1, min_samples_split=2,\n",
      "                       min_weight_fraction_leaf=0.0, n_estimators=100,\n",
      "                       n_jobs=None, oob_score=False, random_state=0, verbose=0,\n",
      "                       warm_start=False):\n",
      "              precision    recall  f1-score   support\n",
      "\n",
      "         0.0       0.93      1.00      0.96      1953\n",
      "         1.0       1.00      0.86      0.92      1017\n",
      "\n",
      "    accuracy                           0.95      2970\n",
      "   macro avg       0.97      0.93      0.94      2970\n",
      "weighted avg       0.95      0.95      0.95      2970\n",
      "\n",
      "\n",
      "Confusion matrix:\n",
      "[[1953    0]\n",
      " [ 146  871]]\n"
     ]
    }
   ],
   "source": [
    "CL_f = classifier(**params)\n",
    "X_train_new, y_train_new = create_new_train(e2, X_train, y_train, CL_g)\n",
    "CL_f.fit(X_train_new['x'].values.reshape(-1, 1), y_train_new[\"s\"], sample_weight=X_train_new['w'])\n",
    "expected = y_test[\"y\"]\n",
    "predicted = CL_f.predict(X_test.values.reshape(-1,1))\n",
    "\n",
    "print(\"Classification report for classifier %s:\\n%s\\n\"\n",
    "      % (CL_f, metrics.classification_report(expected, predicted)))\n",
    "print(\"Confusion matrix:\\n%s\" % metrics.confusion_matrix(expected, predicted))"
   ]
  },
  {
   "cell_type": "markdown",
   "metadata": {},
   "source": [
    "#### e3"
   ]
  },
  {
   "cell_type": "code",
   "execution_count": 26,
   "metadata": {},
   "outputs": [
    {
     "name": "stdout",
     "output_type": "stream",
     "text": [
      "Classification report for classifier RandomForestClassifier(bootstrap=True, class_weight=None, criterion='gini',\n",
      "                       max_depth=2, max_features='auto', max_leaf_nodes=None,\n",
      "                       min_impurity_decrease=0.0, min_impurity_split=None,\n",
      "                       min_samples_leaf=1, min_samples_split=2,\n",
      "                       min_weight_fraction_leaf=0.0, n_estimators=100,\n",
      "                       n_jobs=None, oob_score=False, random_state=0, verbose=0,\n",
      "                       warm_start=False):\n",
      "              precision    recall  f1-score   support\n",
      "\n",
      "         0.0       0.93      1.00      0.96      1953\n",
      "         1.0       1.00      0.86      0.92      1017\n",
      "\n",
      "    accuracy                           0.95      2970\n",
      "   macro avg       0.97      0.93      0.94      2970\n",
      "weighted avg       0.95      0.95      0.95      2970\n",
      "\n",
      "\n",
      "Confusion matrix:\n",
      "[[1953    0]\n",
      " [ 146  871]]\n"
     ]
    }
   ],
   "source": [
    "CL_f = classifier(**params)\n",
    "X_train_new, y_train_new = create_new_train(e3, X_train, y_train, CL_g)\n",
    "CL_f.fit(X_train_new['x'].values.reshape(-1, 1), y_train_new[\"s\"], sample_weight=X_train_new['w'])\n",
    "expected = y_test[\"y\"]\n",
    "predicted = CL_f.predict(X_test.values.reshape(-1,1))\n",
    "\n",
    "print(\"Classification report for classifier %s:\\n%s\\n\"\n",
    "      % (CL_f, metrics.classification_report(expected, predicted)))\n",
    "print(\"Confusion matrix:\\n%s\" % metrics.confusion_matrix(expected, predicted))"
   ]
  },
  {
   "cell_type": "markdown",
   "metadata": {},
   "source": [
    "It can be noticed that on suntetic data all estimation of c is nearly equal."
   ]
  },
  {
   "cell_type": "code",
   "execution_count": null,
   "metadata": {},
   "outputs": [],
   "source": []
  }
 ],
 "metadata": {
  "kernelspec": {
   "display_name": "Python 3",
   "language": "python",
   "name": "python3"
  },
  "language_info": {
   "codemirror_mode": {
    "name": "ipython",
    "version": 3
   },
   "file_extension": ".py",
   "mimetype": "text/x-python",
   "name": "python",
   "nbconvert_exporter": "python",
   "pygments_lexer": "ipython3",
   "version": "3.7.3"
  }
 },
 "nbformat": 4,
 "nbformat_minor": 2
}
